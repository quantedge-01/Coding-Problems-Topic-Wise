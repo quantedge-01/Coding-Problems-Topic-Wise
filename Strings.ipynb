{
 "cells": [
  {
   "cell_type": "markdown",
   "id": "1289602b",
   "metadata": {},
   "source": [
    "# Pllindrome"
   ]
  },
  {
   "cell_type": "code",
   "execution_count": null,
   "id": "5a6df852",
   "metadata": {},
   "outputs": [],
   "source": [
    "r = 'nitin'"
   ]
  },
  {
   "cell_type": "code",
   "execution_count": null,
   "id": "4de9c0bd",
   "metadata": {},
   "outputs": [],
   "source": [
    "start = 0\n",
    "end = len(r) - 1\n",
    "mid = (len(r) - 1 )//2\n",
    "flag = 0"
   ]
  },
  {
   "cell_type": "code",
   "execution_count": null,
   "id": "4171c232",
   "metadata": {},
   "outputs": [],
   "source": [
    "while start <= mid:\n",
    "    if r[start] == r[end]:\n",
    "        start += 1\n",
    "        end -=1\n",
    "        \n",
    "    else:\n",
    "        flag = 1\n",
    "        break\n",
    "        \n",
    "if flag == 0:\n",
    "    print('pallind')\n",
    "else:\n",
    "    print('not pallind')"
   ]
  },
  {
   "cell_type": "code",
   "execution_count": null,
   "id": "5eec5996",
   "metadata": {},
   "outputs": [],
   "source": [
    "# 2nd way"
   ]
  },
  {
   "cell_type": "code",
   "execution_count": null,
   "id": "c1fbd2fc",
   "metadata": {},
   "outputs": [],
   "source": [
    "r[::-1] == r #pqllin"
   ]
  },
  {
   "cell_type": "code",
   "execution_count": null,
   "id": "d429084c",
   "metadata": {},
   "outputs": [],
   "source": [
    "a= 5\n",
    "b= 6\n",
    "'a is greater' if a> b else 'b is greater' #ternary operation"
   ]
  },
  {
   "cell_type": "markdown",
   "id": "2db05a28",
   "metadata": {},
   "source": [
    "# reversing a string"
   ]
  },
  {
   "cell_type": "code",
   "execution_count": null,
   "id": "2d32dda4",
   "metadata": {},
   "outputs": [],
   "source": [
    "string = \"geeks quiz practice code\""
   ]
  },
  {
   "cell_type": "code",
   "execution_count": null,
   "id": "bb3f4282",
   "metadata": {},
   "outputs": [],
   "source": [
    "(' ').join(string.split(' ')[::-1])"
   ]
  },
  {
   "cell_type": "code",
   "execution_count": null,
   "id": "1f7bd7fc",
   "metadata": {},
   "outputs": [],
   "source": [
    "# using stack"
   ]
  },
  {
   "cell_type": "code",
   "execution_count": null,
   "id": "db93ce27",
   "metadata": {},
   "outputs": [],
   "source": [
    "k = []"
   ]
  },
  {
   "cell_type": "code",
   "execution_count": null,
   "id": "89219e74",
   "metadata": {},
   "outputs": [],
   "source": [
    "for i in string.split():\n",
    "    k.append(i)"
   ]
  },
  {
   "cell_type": "code",
   "execution_count": null,
   "id": "114a3b58",
   "metadata": {},
   "outputs": [],
   "source": [
    "rev = []"
   ]
  },
  {
   "cell_type": "code",
   "execution_count": null,
   "id": "7629dd2b",
   "metadata": {},
   "outputs": [],
   "source": [
    "while k:\n",
    "    rev.append(k.pop())"
   ]
  },
  {
   "cell_type": "code",
   "execution_count": null,
   "id": "7cf1634b",
   "metadata": {},
   "outputs": [],
   "source": [
    "' '.join(rev)"
   ]
  },
  {
   "cell_type": "markdown",
   "id": "76a5ecfc",
   "metadata": {},
   "source": [
    "# Removing letters from strings"
   ]
  },
  {
   "cell_type": "code",
   "execution_count": null,
   "id": "c6bbcbcf",
   "metadata": {},
   "outputs": [],
   "source": [
    "test_str = \"GeeksForGeeksFor\" # drawback of replace is it removes all the occurance"
   ]
  },
  {
   "cell_type": "code",
   "execution_count": null,
   "id": "0e46df84",
   "metadata": {},
   "outputs": [],
   "source": [
    "test_str.replace('For' , '')"
   ]
  },
  {
   "cell_type": "code",
   "execution_count": null,
   "id": "440325ef",
   "metadata": {},
   "outputs": [],
   "source": [
    "test_str = \"GeeksForGeeks\"\n",
    " \n",
    "# Removing char at pos 3\n",
    "new_str = \"\"\n",
    " \n",
    "for i in range(len(test_str)):\n",
    "    if i != 2:\n",
    "        new_str = new_str + test_str[i]"
   ]
  },
  {
   "cell_type": "code",
   "execution_count": null,
   "id": "cfe29716",
   "metadata": {},
   "outputs": [],
   "source": [
    "new_str"
   ]
  },
  {
   "cell_type": "code",
   "execution_count": null,
   "id": "6d20b63e",
   "metadata": {},
   "outputs": [],
   "source": [
    "# can also be acheived using slicing"
   ]
  },
  {
   "cell_type": "code",
   "execution_count": null,
   "id": "bb5f2984",
   "metadata": {},
   "outputs": [],
   "source": [
    "test_str[:2] + test_str[3:]"
   ]
  },
  {
   "cell_type": "code",
   "execution_count": null,
   "id": "1db11f91",
   "metadata": {},
   "outputs": [],
   "source": [
    "# another one"
   ]
  },
  {
   "cell_type": "code",
   "execution_count": null,
   "id": "b34bb17d",
   "metadata": {},
   "outputs": [],
   "source": [
    "new_str = ''.join([test_str[i] for i in range(len(test_str)) if i != 2])"
   ]
  },
  {
   "cell_type": "code",
   "execution_count": null,
   "id": "743591e2",
   "metadata": {},
   "outputs": [],
   "source": [
    "#usning bytes"
   ]
  },
  {
   "cell_type": "code",
   "execution_count": null,
   "id": "4a1af999",
   "metadata": {},
   "outputs": [],
   "source": [
    "word = 'Karan'"
   ]
  },
  {
   "cell_type": "code",
   "execution_count": null,
   "id": "17e9336d",
   "metadata": {},
   "outputs": [],
   "source": [
    "pos = 2"
   ]
  },
  {
   "cell_type": "code",
   "execution_count": null,
   "id": "eccdd5b6",
   "metadata": {},
   "outputs": [],
   "source": [
    "b = bytearray(word , 'utf-8')\n",
    "del b[pos]"
   ]
  },
  {
   "cell_type": "code",
   "execution_count": null,
   "id": "1d3be826",
   "metadata": {},
   "outputs": [],
   "source": [
    "b.decode()"
   ]
  },
  {
   "cell_type": "markdown",
   "id": "962b133a",
   "metadata": {},
   "source": [
    "# length  of string"
   ]
  },
  {
   "cell_type": "code",
   "execution_count": null,
   "id": "1fead205",
   "metadata": {},
   "outputs": [],
   "source": [
    "co = 0\n",
    "for i in word:\n",
    "    co +=1\n",
    "print(co)"
   ]
  },
  {
   "cell_type": "code",
   "execution_count": null,
   "id": "bd5c6d3b",
   "metadata": {},
   "outputs": [],
   "source": [
    "# uising genereqtor sjm"
   ]
  },
  {
   "cell_type": "code",
   "execution_count": null,
   "id": "aca1f0aa",
   "metadata": {},
   "outputs": [],
   "source": [
    "sum(1 for i in word)"
   ]
  },
  {
   "cell_type": "markdown",
   "id": "20255c90",
   "metadata": {},
   "source": [
    "# Avoid spaces and give character length"
   ]
  },
  {
   "cell_type": "code",
   "execution_count": null,
   "id": "e69850ac",
   "metadata": {},
   "outputs": [],
   "source": [
    "test = 'geeksforgeeks 33 best'"
   ]
  },
  {
   "cell_type": "code",
   "execution_count": null,
   "id": "9ff18c6f",
   "metadata": {},
   "outputs": [],
   "source": [
    "c = 0"
   ]
  },
  {
   "cell_type": "code",
   "execution_count": null,
   "id": "07f73ce7",
   "metadata": {},
   "outputs": [],
   "source": [
    "for i in test:\n",
    "    if i!= ' ':\n",
    "        c +=1"
   ]
  },
  {
   "cell_type": "code",
   "execution_count": null,
   "id": "53602627",
   "metadata": {},
   "outputs": [],
   "source": [
    "# using map"
   ]
  },
  {
   "cell_type": "code",
   "execution_count": null,
   "id": "30ef66ac",
   "metadata": {},
   "outputs": [],
   "source": [
    "sum(map(len , test.split()))"
   ]
  },
  {
   "cell_type": "code",
   "execution_count": null,
   "id": "2f380b4d",
   "metadata": {},
   "outputs": [],
   "source": [
    "# using replace\n",
    "\n",
    "len(word.replace(' ' , ''))"
   ]
  },
  {
   "cell_type": "markdown",
   "id": "7ed3727d",
   "metadata": {},
   "source": [
    "# Print even length elements"
   ]
  },
  {
   "cell_type": "code",
   "execution_count": null,
   "id": "7384c229",
   "metadata": {},
   "outputs": [],
   "source": [
    "ele = \"This is a python language\""
   ]
  },
  {
   "cell_type": "code",
   "execution_count": null,
   "id": "ef819cd5",
   "metadata": {},
   "outputs": [],
   "source": [
    "' '.join([e for e in  ele.split() if len(e) % 2 == 0])"
   ]
  },
  {
   "cell_type": "code",
   "execution_count": null,
   "id": "96e380f1",
   "metadata": {},
   "outputs": [],
   "source": [
    "elem = ele.split()"
   ]
  },
  {
   "cell_type": "code",
   "execution_count": null,
   "id": "93e26d14",
   "metadata": {},
   "outputs": [],
   "source": [
    "# using filter\n",
    "list(filter(lambda x : len(x) % 2 == 0 , elem))"
   ]
  },
  {
   "cell_type": "markdown",
   "id": "a01b631e",
   "metadata": {},
   "source": [
    "# Uppercase Half String"
   ]
  },
  {
   "cell_type": "code",
   "execution_count": null,
   "id": "4398acee",
   "metadata": {},
   "outputs": [],
   "source": [
    "test_str = 'geeksforgeek' "
   ]
  },
  {
   "cell_type": "code",
   "execution_count": null,
   "id": "7cffd89e",
   "metadata": {},
   "outputs": [],
   "source": [
    "m = (len(test_str) - 1 ) // 2"
   ]
  },
  {
   "cell_type": "code",
   "execution_count": null,
   "id": "2bba4c43",
   "metadata": {},
   "outputs": [],
   "source": [
    "test_str[m+1:].upper()"
   ]
  },
  {
   "cell_type": "code",
   "execution_count": null,
   "id": "ed27dece",
   "metadata": {},
   "outputs": [],
   "source": [
    "len(test_str)"
   ]
  },
  {
   "cell_type": "markdown",
   "id": "ab8c9524",
   "metadata": {},
   "source": [
    "# Capitalize first and last letter of each letter"
   ]
  },
  {
   "cell_type": "code",
   "execution_count": null,
   "id": "933e46a8",
   "metadata": {},
   "outputs": [],
   "source": [
    "lk = 'welcome to geeksforgeeks'"
   ]
  },
  {
   "cell_type": "code",
   "execution_count": null,
   "id": "4e170062",
   "metadata": {},
   "outputs": [],
   "source": [
    "for i in lk.split():\n",
    "    print(i[0].upper(),i[1:-1], i[-1].upper())"
   ]
  },
  {
   "cell_type": "markdown",
   "id": "7ef76cd2",
   "metadata": {},
   "source": [
    "#Count the Number of matching characters in a pair of string"
   ]
  },
  {
   "cell_type": "code",
   "execution_count": null,
   "id": "cd722dfa",
   "metadata": {},
   "outputs": [],
   "source": [
    "a = 'abcdefa'\n",
    "b = 'defghia'"
   ]
  },
  {
   "cell_type": "code",
   "execution_count": null,
   "id": "951a00f8",
   "metadata": {},
   "outputs": [],
   "source": [
    "len(set(a).intersection(set(b)))"
   ]
  },
  {
   "cell_type": "code",
   "execution_count": null,
   "id": "13ada800",
   "metadata": {},
   "outputs": [],
   "source": [
    "# using dictionary"
   ]
  },
  {
   "cell_type": "code",
   "execution_count": null,
   "id": "e4e161e5",
   "metadata": {},
   "outputs": [],
   "source": [
    "char_count = {}\n",
    "\n",
    "for ch in a:\n",
    "    if ch in char_count:\n",
    "        char_count[ch] += 1\n",
    "    else:\n",
    "        char_count[ch] = 1"
   ]
  },
  {
   "cell_type": "code",
   "execution_count": null,
   "id": "9cdcf318",
   "metadata": {},
   "outputs": [],
   "source": [
    "char_count"
   ]
  },
  {
   "cell_type": "markdown",
   "id": "e98861dc",
   "metadata": {},
   "source": [
    "# 1 the string is Symmetrical or Palindrome"
   ]
  },
  {
   "cell_type": "code",
   "execution_count": null,
   "id": "5e23123a",
   "metadata": {},
   "outputs": [],
   "source": [
    "s = 'kayak'"
   ]
  },
  {
   "cell_type": "code",
   "execution_count": null,
   "id": "1cb20f46",
   "metadata": {},
   "outputs": [],
   "source": [
    "s == s[::-1] # effective but not memory optimized"
   ]
  },
  {
   "cell_type": "code",
   "execution_count": null,
   "id": "081fa2be",
   "metadata": {},
   "outputs": [],
   "source": [
    "#using two pointer approach"
   ]
  },
  {
   "cell_type": "code",
   "execution_count": null,
   "id": "ffd1fc8c",
   "metadata": {},
   "outputs": [],
   "source": [
    "def right_pall(s):\n",
    "    left  = 0\n",
    "    right = len(s) - 1\n",
    "\n",
    "    while left < right:\n",
    "        if s[left] != s[right]:\n",
    "            return False\n",
    "        left += 1\n",
    "        right-= 1\n",
    "    return True"
   ]
  },
  {
   "cell_type": "code",
   "execution_count": null,
   "id": "39879821",
   "metadata": {},
   "outputs": [],
   "source": [
    "right_pall(s)"
   ]
  },
  {
   "cell_type": "markdown",
   "id": "66fbe7f6",
   "metadata": {},
   "source": [
    "# using recursion"
   ]
  },
  {
   "cell_type": "code",
   "execution_count": null,
   "id": "e1294d28",
   "metadata": {},
   "outputs": [],
   "source": [
    "def rec(s):\n",
    "    if len(s) <= 1:\n",
    "        return True\n",
    "    if s[0] == s[-1]:\n",
    "        return True\n",
    "    \n",
    "    return rec(s[1:-1])"
   ]
  },
  {
   "cell_type": "markdown",
   "id": "60c0a2ae",
   "metadata": {},
   "source": [
    "# Reverse Strings"
   ]
  },
  {
   "cell_type": "code",
   "execution_count": null,
   "id": "00abbb15",
   "metadata": {},
   "outputs": [],
   "source": [
    "def rev(s):\n",
    "    if len(s) <=1:\n",
    "        return s\n",
    "    else:\n",
    "        return rev(s[1:])+ s[0]"
   ]
  },
  {
   "cell_type": "code",
   "execution_count": null,
   "id": "4ff71851",
   "metadata": {},
   "outputs": [],
   "source": [
    "rev(s)"
   ]
  },
  {
   "cell_type": "code",
   "execution_count": null,
   "id": "a127aed7",
   "metadata": {},
   "outputs": [],
   "source": [
    "s.split(' ')"
   ]
  },
  {
   "cell_type": "code",
   "execution_count": null,
   "id": "fbcb2048",
   "metadata": {},
   "outputs": [],
   "source": [
    "p ='geeks quiz practice code'"
   ]
  },
  {
   "cell_type": "code",
   "execution_count": null,
   "id": "adaed9a0",
   "metadata": {},
   "outputs": [],
   "source": [
    "p.split(' ')[::-1]"
   ]
  },
  {
   "cell_type": "markdown",
   "id": "6b084983",
   "metadata": {},
   "source": [
    "# remove letters froim strings"
   ]
  },
  {
   "cell_type": "code",
   "execution_count": null,
   "id": "34f2645b",
   "metadata": {},
   "outputs": [],
   "source": [
    "wo = 'Geeks 123 For 123Geeks'"
   ]
  },
  {
   "cell_type": "code",
   "execution_count": null,
   "id": "5fa43b60",
   "metadata": {},
   "outputs": [],
   "source": [
    "wo.replace('123' , '')"
   ]
  },
  {
   "cell_type": "code",
   "execution_count": null,
   "id": "0521f738",
   "metadata": {},
   "outputs": [],
   "source": [
    "#remove 2nd element"
   ]
  },
  {
   "cell_type": "code",
   "execution_count": null,
   "id": "db9ee4c6",
   "metadata": {},
   "outputs": [],
   "source": [
    "a = ''"
   ]
  },
  {
   "cell_type": "code",
   "execution_count": null,
   "id": "60083a46",
   "metadata": {},
   "outputs": [],
   "source": [
    "for i in range(len(wo)):\n",
    "    if i != 2:\n",
    "        a = a + wo[i]"
   ]
  },
  {
   "cell_type": "markdown",
   "id": "300e0012",
   "metadata": {},
   "source": [
    "# length of string"
   ]
  },
  {
   "cell_type": "code",
   "execution_count": null,
   "id": "d9a8a4ef",
   "metadata": {},
   "outputs": [],
   "source": [
    "sum(1 for i in wo)"
   ]
  },
  {
   "cell_type": "markdown",
   "id": "a43b9aa5",
   "metadata": {},
   "source": [
    "# length without spaces"
   ]
  },
  {
   "cell_type": "code",
   "execution_count": null,
   "id": "66362642",
   "metadata": {},
   "outputs": [],
   "source": [
    "wo = 'Geeks 123 For 123Geeks'"
   ]
  },
  {
   "cell_type": "code",
   "execution_count": null,
   "id": "8b66df9b",
   "metadata": {},
   "outputs": [],
   "source": [
    "c = 0"
   ]
  },
  {
   "cell_type": "code",
   "execution_count": null,
   "id": "1629e1a3",
   "metadata": {},
   "outputs": [],
   "source": [
    "for i in wo:\n",
    "    if i != ' ':\n",
    "        c +=1\n"
   ]
  },
  {
   "cell_type": "code",
   "execution_count": null,
   "id": "56c66782",
   "metadata": {},
   "outputs": [],
   "source": [
    "sum(1 for i in wo if i !=' ')"
   ]
  },
  {
   "cell_type": "code",
   "execution_count": null,
   "id": "9db741d2",
   "metadata": {},
   "outputs": [],
   "source": [
    "len([ i for i in list(wo) if i != ' '])"
   ]
  },
  {
   "cell_type": "markdown",
   "id": "373f76bf",
   "metadata": {},
   "source": [
    "# Python program to print even length words in a string"
   ]
  },
  {
   "cell_type": "code",
   "execution_count": null,
   "id": "d05fb8e7",
   "metadata": {},
   "outputs": [],
   "source": [
    "s = \"This is a python language\""
   ]
  },
  {
   "cell_type": "code",
   "execution_count": null,
   "id": "3f80fcd7",
   "metadata": {},
   "outputs": [],
   "source": [
    "[i for i in s.split(' ') if len(i) %2 ==0]"
   ]
  },
  {
   "cell_type": "code",
   "execution_count": null,
   "id": "f0613e5a",
   "metadata": {},
   "outputs": [],
   "source": [
    "pp = s.split(' ')"
   ]
  },
  {
   "cell_type": "code",
   "execution_count": null,
   "id": "46e2d6ff",
   "metadata": {},
   "outputs": [],
   "source": [
    "list(filter(lambda x : len(x) %2 == 0 , pp))"
   ]
  },
  {
   "cell_type": "markdown",
   "id": "0e8876cb",
   "metadata": {},
   "source": [
    "#  Uppercase Half String"
   ]
  },
  {
   "cell_type": "code",
   "execution_count": null,
   "id": "51763dc6",
   "metadata": {},
   "outputs": [],
   "source": [
    "u = 'geeks for geek' "
   ]
  },
  {
   "cell_type": "code",
   "execution_count": null,
   "id": "5ed37da8",
   "metadata": {},
   "outputs": [],
   "source": [
    "mid = len(u) //2"
   ]
  },
  {
   "cell_type": "code",
   "execution_count": null,
   "id": "acf7993e",
   "metadata": {},
   "outputs": [],
   "source": [
    "u[:mid]+ ''.join(list(u)[6:]).upper()"
   ]
  },
  {
   "cell_type": "code",
   "execution_count": null,
   "id": "ba186dfe",
   "metadata": {},
   "outputs": [],
   "source": [
    "res = ''\n",
    "for i in range(len(u)):\n",
    "    if i >= mid:\n",
    "        res = res + u[i].upper()\n",
    "        \n",
    "    else:\n",
    "        res = res + u[i]\n",
    "#     print(i)"
   ]
  },
  {
   "cell_type": "code",
   "execution_count": null,
   "id": "81ad2e46",
   "metadata": {},
   "outputs": [],
   "source": [
    "res"
   ]
  },
  {
   "cell_type": "markdown",
   "id": "8ce0cb52",
   "metadata": {},
   "source": [
    "#Python program to capitalize the first and last character of each word in a string"
   ]
  },
  {
   "cell_type": "code",
   "execution_count": null,
   "id": "cc2e3df5",
   "metadata": {},
   "outputs": [],
   "source": [
    "' '.join([i.title() for i in u.split(' ') ])"
   ]
  },
  {
   "cell_type": "code",
   "execution_count": null,
   "id": "cd64d2d4",
   "metadata": {},
   "outputs": [],
   "source": [
    "''.join(map(lambda x: x.title() , u.split(' ')))"
   ]
  },
  {
   "cell_type": "markdown",
   "id": "a401746d",
   "metadata": {},
   "source": [
    "# Python program to check if a string has at least one letter and one number"
   ]
  },
  {
   "cell_type": "code",
   "execution_count": null,
   "id": "49c59cfb",
   "metadata": {},
   "outputs": [],
   "source": [
    "a = 'welcome2ourcountry34'"
   ]
  },
  {
   "cell_type": "code",
   "execution_count": null,
   "id": "bd178feb",
   "metadata": {},
   "outputs": [],
   "source": [
    "[i  for i in list(a) if i.isnumeric()]"
   ]
  },
  {
   "cell_type": "code",
   "execution_count": null,
   "id": "41291b5d",
   "metadata": {},
   "outputs": [],
   "source": [
    "any(i.isalnum()  for i in list(a))"
   ]
  },
  {
   "cell_type": "code",
   "execution_count": null,
   "id": "939cc549",
   "metadata": {},
   "outputs": [],
   "source": [
    "str_flag= False\n",
    "num_flag = False"
   ]
  },
  {
   "cell_type": "code",
   "execution_count": null,
   "id": "65f5f469",
   "metadata": {},
   "outputs": [],
   "source": [
    "for i in a:\n",
    "    if i.isalpha():\n",
    "        str_flag = True\n",
    "        \n",
    "    if i.isdigit():\n",
    "        num_flag = True"
   ]
  },
  {
   "cell_type": "markdown",
   "id": "9d8676f7",
   "metadata": {},
   "source": [
    "# Python Program to Accept the Strings Which Contains all Vowels"
   ]
  },
  {
   "cell_type": "code",
   "execution_count": null,
   "id": "6dd78008",
   "metadata": {},
   "outputs": [],
   "source": [
    "yt = 'geeksforgeeks'"
   ]
  },
  {
   "cell_type": "code",
   "execution_count": null,
   "id": "5c40ff8a",
   "metadata": {},
   "outputs": [],
   "source": [
    "set(yt)"
   ]
  },
  {
   "cell_type": "code",
   "execution_count": null,
   "id": "c8869934",
   "metadata": {},
   "outputs": [],
   "source": [
    "vow = 'aeiou'"
   ]
  },
  {
   "cell_type": "code",
   "execution_count": null,
   "id": "b941325c",
   "metadata": {},
   "outputs": [],
   "source": [
    "vow_s = set(vow)"
   ]
  },
  {
   "cell_type": "code",
   "execution_count": null,
   "id": "d4436bb3",
   "metadata": {},
   "outputs": [],
   "source": [
    "vow_s.symmetric_difference(yt)"
   ]
  },
  {
   "cell_type": "code",
   "execution_count": null,
   "id": "32c90ebe",
   "metadata": {},
   "outputs": [],
   "source": [
    "nwe = vow_s.intersection(yt)"
   ]
  },
  {
   "cell_type": "code",
   "execution_count": null,
   "id": "bc5bf9b4",
   "metadata": {},
   "outputs": [],
   "source": [
    "nwe"
   ]
  },
  {
   "cell_type": "code",
   "execution_count": null,
   "id": "525d8dbb",
   "metadata": {},
   "outputs": [],
   "source": [
    "all(vow in yt for v in yt)"
   ]
  },
  {
   "cell_type": "markdown",
   "id": "4abb0e02",
   "metadata": {},
   "source": [
    "#  Count the Number of matching characters in a pair of string"
   ]
  },
  {
   "cell_type": "code",
   "execution_count": null,
   "id": "1825bb86",
   "metadata": {},
   "outputs": [],
   "source": [
    "str1 = 'abcdef'\n",
    "str2 = 'defghia'"
   ]
  },
  {
   "cell_type": "code",
   "execution_count": null,
   "id": "408bc220",
   "metadata": {
    "scrolled": true
   },
   "outputs": [],
   "source": [
    "len(set(str1).intersection(str2))\n",
    "set(str1).intersection(str2)"
   ]
  },
  {
   "cell_type": "markdown",
   "id": "70e5c7af",
   "metadata": {},
   "source": [
    "#Python program to count number of vowels using sets in given string"
   ]
  },
  {
   "cell_type": "code",
   "execution_count": null,
   "id": "ad7f618c",
   "metadata": {},
   "outputs": [],
   "source": [
    "wd = 'GeeksforGeeks'"
   ]
  },
  {
   "cell_type": "code",
   "execution_count": null,
   "id": "260e8be9",
   "metadata": {},
   "outputs": [],
   "source": [
    "sum(wd.count(v) for v in vow)"
   ]
  },
  {
   "cell_type": "markdown",
   "id": "47de1002",
   "metadata": {},
   "source": [
    "# Remove All Duplicates from a Given String in Python"
   ]
  },
  {
   "cell_type": "code",
   "execution_count": null,
   "id": "275bc4cf",
   "metadata": {},
   "outputs": [],
   "source": [
    "word = \"geeksforgeeks\""
   ]
  },
  {
   "cell_type": "code",
   "execution_count": null,
   "id": "f430e6b1",
   "metadata": {},
   "outputs": [],
   "source": [
    "check = {}\n",
    "\n",
    "for i in word:\n",
    "    if i not in check:\n",
    "        check[i] = 1\n",
    "    else:\n",
    "        check[i] += 1"
   ]
  },
  {
   "cell_type": "code",
   "execution_count": null,
   "id": "e0e81f89",
   "metadata": {},
   "outputs": [],
   "source": [
    "check"
   ]
  },
  {
   "cell_type": "code",
   "execution_count": null,
   "id": "0addfaf7",
   "metadata": {},
   "outputs": [],
   "source": [
    "val = min(v for  v in check.values())"
   ]
  },
  {
   "cell_type": "code",
   "execution_count": null,
   "id": "27b5911f",
   "metadata": {},
   "outputs": [],
   "source": [
    "{k for k, v in check.items() if v ==val }"
   ]
  },
  {
   "cell_type": "markdown",
   "id": "80b48a8c",
   "metadata": {},
   "source": [
    "# Odd Frequency Characters"
   ]
  },
  {
   "cell_type": "code",
   "execution_count": null,
   "id": "0c2679b9",
   "metadata": {},
   "outputs": [],
   "source": [
    "test_str = 'geekforgeeks' \n",
    "res = []"
   ]
  },
  {
   "cell_type": "code",
   "execution_count": null,
   "id": "047f72e6",
   "metadata": {},
   "outputs": [],
   "source": [
    "for i in set(test_str):\n",
    "    if test_str.count(i) %2 !=0:\n",
    "        res.append(i)"
   ]
  },
  {
   "cell_type": "code",
   "execution_count": null,
   "id": "f1562d9f",
   "metadata": {},
   "outputs": [],
   "source": [
    "res"
   ]
  },
  {
   "cell_type": "markdown",
   "id": "76a02ed6",
   "metadata": {},
   "source": [
    "# Specific Characters Frequency in String List"
   ]
  },
  {
   "cell_type": "code",
   "execution_count": null,
   "id": "0f897cbe",
   "metadata": {},
   "outputs": [],
   "source": [
    "test = ['geeksforgeeks is best for geeks']\n",
    "chr_list = ['e', 'b', 'g', 'f'] \n",
    "# Output : {‘g’: 3, ‘e’: 7, ‘b’: 1, ‘f’ : 2}"
   ]
  },
  {
   "cell_type": "code",
   "execution_count": null,
   "id": "e36769ef",
   "metadata": {},
   "outputs": [],
   "source": [
    "test = test.pop()"
   ]
  },
  {
   "cell_type": "code",
   "execution_count": null,
   "id": "86e3d3da",
   "metadata": {},
   "outputs": [],
   "source": [
    "val = {}\n",
    "for i in test:\n",
    "    if i in chr_list:\n",
    "#         print(i)\n",
    "        co = (test.count(i))\n",
    "    \n",
    "        val[i] = co"
   ]
  },
  {
   "cell_type": "code",
   "execution_count": null,
   "id": "ff5e77c2",
   "metadata": {},
   "outputs": [],
   "source": [
    "val"
   ]
  },
  {
   "cell_type": "code",
   "execution_count": null,
   "id": "78d933fe",
   "metadata": {},
   "outputs": [],
   "source": [
    "# 2nd way"
   ]
  },
  {
   "cell_type": "code",
   "execution_count": null,
   "id": "bf85e390",
   "metadata": {},
   "outputs": [],
   "source": [
    "counter_dict = {k: 0 for k in chr_list}"
   ]
  },
  {
   "cell_type": "code",
   "execution_count": null,
   "id": "c94730ad",
   "metadata": {},
   "outputs": [],
   "source": [
    "counter_dict"
   ]
  },
  {
   "cell_type": "code",
   "execution_count": null,
   "id": "5175b563",
   "metadata": {},
   "outputs": [],
   "source": [
    "for i in 'geeksforgeeks is best for geeks':\n",
    "    if i in counter_dict:\n",
    "        counter_dict[i] +=1"
   ]
  },
  {
   "cell_type": "code",
   "execution_count": null,
   "id": "04f125af",
   "metadata": {},
   "outputs": [],
   "source": [
    "counter_dict"
   ]
  },
  {
   "cell_type": "markdown",
   "id": "c730dd8e",
   "metadata": {},
   "source": [
    "# printvalues greater than k"
   ]
  },
  {
   "cell_type": "code",
   "execution_count": null,
   "id": "4b344af4",
   "metadata": {},
   "outputs": [],
   "source": [
    "val = \"hello geeks for geeks is computer science portal\"          \n",
    "k = 4"
   ]
  },
  {
   "cell_type": "code",
   "execution_count": null,
   "id": "d2e2b116",
   "metadata": {},
   "outputs": [],
   "source": [
    "' '.join(filter(lambda x: len(x) > k , val.split(' ')))"
   ]
  },
  {
   "cell_type": "markdown",
   "id": "9e888ea6",
   "metadata": {},
   "source": [
    "# Python program for removing i-th character from a string"
   ]
  },
  {
   "cell_type": "code",
   "execution_count": null,
   "id": "0eda7be2",
   "metadata": {},
   "outputs": [],
   "source": [
    "string = \"geeksFORgeeks\"\n",
    "i = 5"
   ]
  },
  {
   "cell_type": "code",
   "execution_count": null,
   "id": "4d5d6e1a",
   "metadata": {},
   "outputs": [],
   "source": [
    "string.replace(string[i] , '')"
   ]
  },
  {
   "cell_type": "code",
   "execution_count": null,
   "id": "01818778",
   "metadata": {},
   "outputs": [],
   "source": [
    "#2"
   ]
  },
  {
   "cell_type": "code",
   "execution_count": null,
   "id": "bc7eac3c",
   "metadata": {},
   "outputs": [],
   "source": [
    "res = ''\n",
    "for j in range(len(string)):\n",
    "    if j ==i:\n",
    "        continue\n",
    "    else:\n",
    "        res = res + string[j]"
   ]
  },
  {
   "cell_type": "code",
   "execution_count": null,
   "id": "2478e451",
   "metadata": {},
   "outputs": [],
   "source": [
    "res"
   ]
  },
  {
   "cell_type": "code",
   "execution_count": null,
   "id": "e63ab727",
   "metadata": {},
   "outputs": [],
   "source": [
    "#3"
   ]
  },
  {
   "cell_type": "code",
   "execution_count": null,
   "id": "2cd67ba0",
   "metadata": {},
   "outputs": [],
   "source": [
    "''.join([string[j] for j in range(len(string)) if j!=i ])"
   ]
  },
  {
   "cell_type": "code",
   "execution_count": null,
   "id": "4791bd5d",
   "metadata": {},
   "outputs": [],
   "source": [
    "a = \"Geeks for Geeks\"\n",
    "b = \"Learning from Geeks for Geeks\""
   ]
  },
  {
   "cell_type": "code",
   "execution_count": null,
   "id": "9a869b40",
   "metadata": {},
   "outputs": [],
   "source": [
    "a.split()"
   ]
  },
  {
   "cell_type": "code",
   "execution_count": null,
   "id": "1d3455bc",
   "metadata": {},
   "outputs": [],
   "source": [
    "b.split()"
   ]
  },
  {
   "cell_type": "code",
   "execution_count": null,
   "id": "90fa066f",
   "metadata": {},
   "outputs": [],
   "source": [
    "[word for word in a.split() if word in b.split() ]"
   ]
  },
  {
   "cell_type": "markdown",
   "id": "0801719c",
   "metadata": {},
   "source": [
    "# Convert numeric words to numbers"
   ]
  },
  {
   "cell_type": "code",
   "execution_count": null,
   "id": "19e40560",
   "metadata": {},
   "outputs": [],
   "source": [
    "test = {\n",
    "    'one' : 1,\n",
    "    'two' : 2,\n",
    "    'three':3,\n",
    "    'four':4,\n",
    "    'five':5\n",
    "}"
   ]
  },
  {
   "cell_type": "code",
   "execution_count": null,
   "id": "76a914bf",
   "metadata": {},
   "outputs": [],
   "source": [
    "val  = 'one two three'"
   ]
  },
  {
   "cell_type": "code",
   "execution_count": null,
   "id": "5b3dbe88",
   "metadata": {},
   "outputs": [],
   "source": [
    "b = []\n",
    "for v in val.split():\n",
    "    b.append(test[v])"
   ]
  },
  {
   "cell_type": "markdown",
   "id": "104a476d",
   "metadata": {},
   "source": [
    "# location of a string"
   ]
  },
  {
   "cell_type": "code",
   "execution_count": null,
   "id": "0657e143",
   "metadata": {},
   "outputs": [],
   "source": [
    "ww = \"geeksforgeeks is best for geeks\""
   ]
  },
  {
   "cell_type": "code",
   "execution_count": null,
   "id": "db8c6003",
   "metadata": {},
   "outputs": [],
   "source": [
    "fin = 'best'"
   ]
  },
  {
   "cell_type": "code",
   "execution_count": null,
   "id": "6218283f",
   "metadata": {},
   "outputs": [],
   "source": [
    "ww = ww.split()"
   ]
  },
  {
   "cell_type": "code",
   "execution_count": null,
   "id": "3726be52",
   "metadata": {},
   "outputs": [],
   "source": [
    "[v+1 for v in range(len(ww)) if ww[v] == fin]"
   ]
  },
  {
   "cell_type": "code",
   "execution_count": null,
   "id": "54d3b551",
   "metadata": {},
   "outputs": [],
   "source": [
    "ww.index(fin) + 1"
   ]
  },
  {
   "cell_type": "markdown",
   "id": "39d5959d",
   "metadata": {},
   "source": [
    "# consecutive frequency"
   ]
  },
  {
   "cell_type": "code",
   "execution_count": null,
   "id": "12f1c2e6",
   "metadata": {},
   "outputs": [],
   "source": [
    "po = \"geekksforgggeeks\"\n",
    "# The Consecutive characters frequency : \n",
    "outpuy = [1, 2, 2, 1, 1, 1, 1, 3, 2, 1, 1]\n",
    "\n",
    "len(outpuy)\n",
    "\n",
    "frequencies = []\n",
    "count = 1\n",
    "\n",
    "for i in range(len(po) -1):\n",
    "    if po[i] == po[i+1]:\n",
    "        count +=1\n",
    "    else:\n",
    "        frequencies.append(count)\n",
    "        count =1\n",
    "        \n",
    "frequencies.append(count)\n",
    "    "
   ]
  },
  {
   "cell_type": "code",
   "execution_count": null,
   "id": "5c95e6de",
   "metadata": {},
   "outputs": [],
   "source": [
    "frequencies"
   ]
  },
  {
   "cell_type": "code",
   "execution_count": null,
   "id": "f803924d",
   "metadata": {},
   "outputs": [],
   "source": [
    "s = \"GeeksforGeeks\"\n",
    "d = 2\n",
    "# Output : Left Rotation  : \"eksforGeeksGe\" \n",
    "#          Right Rotation : \"ksGeeksforGee\" "
   ]
  },
  {
   "cell_type": "code",
   "execution_count": null,
   "id": "dff61179",
   "metadata": {},
   "outputs": [],
   "source": [
    "s[2:] + s[:2]"
   ]
  },
  {
   "cell_type": "markdown",
   "id": "8e0535ee",
   "metadata": {},
   "source": [
    "# substring in string"
   ]
  },
  {
   "cell_type": "code",
   "execution_count": null,
   "id": "5f38bc26",
   "metadata": {},
   "outputs": [],
   "source": [
    "sub = 'geeks for geeks'"
   ]
  },
  {
   "cell_type": "code",
   "execution_count": null,
   "id": "2793c1a9",
   "metadata": {},
   "outputs": [],
   "source": [
    "s = 'geeeks'"
   ]
  },
  {
   "cell_type": "code",
   "execution_count": null,
   "id": "5e73c778",
   "metadata": {},
   "outputs": [],
   "source": [
    "subs = sub.split()"
   ]
  },
  {
   "cell_type": "code",
   "execution_count": null,
   "id": "837e47a2",
   "metadata": {},
   "outputs": [],
   "source": [
    "'Yes' if s in subs else 'No'"
   ]
  },
  {
   "cell_type": "code",
   "execution_count": null,
   "id": "fd8a83fa",
   "metadata": {},
   "outputs": [],
   "source": [
    "# 2nd way"
   ]
  },
  {
   "cell_type": "code",
   "execution_count": null,
   "id": "497c8dc4",
   "metadata": {},
   "outputs": [],
   "source": [
    "if s in subs:\n",
    "    print('yes')\n",
    "else:\n",
    "    print('no')"
   ]
  },
  {
   "cell_type": "code",
   "execution_count": null,
   "id": "e5deee94",
   "metadata": {},
   "outputs": [],
   "source": [
    "#3 using find"
   ]
  },
  {
   "cell_type": "code",
   "execution_count": null,
   "id": "ae56b500",
   "metadata": {},
   "outputs": [],
   "source": [
    "'yes' if sub.find(s) != -1 else 'no'"
   ]
  },
  {
   "cell_type": "code",
   "execution_count": null,
   "id": "9f47124d",
   "metadata": {},
   "outputs": [],
   "source": [
    "# using count"
   ]
  },
  {
   "cell_type": "code",
   "execution_count": null,
   "id": "709267e1",
   "metadata": {},
   "outputs": [],
   "source": [
    "'yes' if sub.count(s) >0 else 'no'"
   ]
  },
  {
   "cell_type": "markdown",
   "id": "35146bc8",
   "metadata": {},
   "source": [
    "# substring present in string list"
   ]
  },
  {
   "cell_type": "code",
   "execution_count": null,
   "id": "8f1105b3",
   "metadata": {},
   "outputs": [],
   "source": [
    "a1 = ['I love Gfg', 'Its Best for Geeks', 'Gfg means CS'] \n",
    "\n",
    "a2 = ['Gfg', 'is', 'Best']"
   ]
  },
  {
   "cell_type": "code",
   "execution_count": null,
   "id": "7a8d06d6",
   "metadata": {},
   "outputs": [],
   "source": [
    "a1 = ' '.join(a1)"
   ]
  },
  {
   "cell_type": "code",
   "execution_count": null,
   "id": "3ba4900a",
   "metadata": {},
   "outputs": [],
   "source": [
    "a1"
   ]
  },
  {
   "cell_type": "code",
   "execution_count": null,
   "id": "a9b0d640",
   "metadata": {},
   "outputs": [],
   "source": [
    "found = []\n",
    "for s in a2:\n",
    "    if s in a1:\n",
    "        f = True\n",
    "    else:\n",
    "        f = False\n",
    "    found.append(f)\n",
    "    \n",
    "found\n",
    "        "
   ]
  },
  {
   "cell_type": "markdown",
   "id": "488bcd20",
   "metadata": {},
   "source": [
    "# another prob"
   ]
  },
  {
   "cell_type": "code",
   "execution_count": 44,
   "id": "3562fa63-bdb1-465d-873d-c30dddd060f9",
   "metadata": {},
   "outputs": [],
   "source": [
    "test = 'ababa'\n",
    "#Output : {‘a’: 3, ‘ab’: 2, ‘aba’: 2, ‘abab’: 1, ‘ababa’: 1, ‘b’: 2, ‘ba’: 2, ‘bab’: 1, ‘baba’: 1} \n",
    "\n",
    "out = {}\n",
    "\n",
    "for i in range(len(test)):\n",
    "    test = (test[i:])\n",
    "    for j in test:\n",
    "        p = test[i:]\n",
    "        if p not in out:\n",
    "           out[p] = 1\n",
    "        else:\n",
    "            out[p] += 1"
   ]
  },
  {
   "cell_type": "code",
   "execution_count": 45,
   "id": "adee0b99-4447-44ec-9b82-2740c077e90b",
   "metadata": {},
   "outputs": [
    {
     "data": {
      "text/plain": [
       "{'ababa': 5, 'aba': 4, '': 2}"
      ]
     },
     "execution_count": 45,
     "metadata": {},
     "output_type": "execute_result"
    }
   ],
   "source": [
    "out"
   ]
  }
 ],
 "metadata": {
  "kernelspec": {
   "display_name": "Python 3 (ipykernel)",
   "language": "python",
   "name": "python3"
  },
  "language_info": {
   "codemirror_mode": {
    "name": "ipython",
    "version": 3
   },
   "file_extension": ".py",
   "mimetype": "text/x-python",
   "name": "python",
   "nbconvert_exporter": "python",
   "pygments_lexer": "ipython3",
   "version": "3.11.7"
  }
 },
 "nbformat": 4,
 "nbformat_minor": 5
}
