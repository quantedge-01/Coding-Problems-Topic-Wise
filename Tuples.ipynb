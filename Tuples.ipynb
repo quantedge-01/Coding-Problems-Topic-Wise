{
 "cells": [
  {
   "cell_type": "markdown",
   "id": "b9db03c7",
   "metadata": {},
   "source": [
    "# ORDERED , UNCHANGEBALE , ALLOWS DUPLICATE , UNMUTABLE"
   ]
  },
  {
   "cell_type": "markdown",
   "id": "d029ae17",
   "metadata": {},
   "source": [
    "# CREATING A TUPLE WITH SINGLE ITEM"
   ]
  },
  {
   "cell_type": "code",
   "execution_count": 5,
   "id": "0ac196a8",
   "metadata": {},
   "outputs": [],
   "source": [
    "t = () # initialization of empty tuple"
   ]
  },
  {
   "cell_type": "code",
   "execution_count": 8,
   "id": "3e12a8db",
   "metadata": {},
   "outputs": [],
   "source": [
    "t = (2, ) # brownie point: single tuple creation is followed by a comma ','"
   ]
  },
  {
   "cell_type": "code",
   "execution_count": 9,
   "id": "98ba7f11",
   "metadata": {},
   "outputs": [],
   "source": [
    "# Accesing item same as lists"
   ]
  },
  {
   "cell_type": "code",
   "execution_count": 10,
   "id": "b22cf23b",
   "metadata": {},
   "outputs": [],
   "source": [
    "t = (1,2,3,4,5)"
   ]
  },
  {
   "cell_type": "code",
   "execution_count": 11,
   "id": "09ed4cf3",
   "metadata": {},
   "outputs": [
    {
     "data": {
      "text/plain": [
       "1"
      ]
     },
     "execution_count": 11,
     "metadata": {},
     "output_type": "execute_result"
    }
   ],
   "source": [
    "t[0]"
   ]
  },
  {
   "cell_type": "code",
   "execution_count": 12,
   "id": "2aecac9c",
   "metadata": {},
   "outputs": [
    {
     "data": {
      "text/plain": [
       "2"
      ]
     },
     "execution_count": 12,
     "metadata": {},
     "output_type": "execute_result"
    }
   ],
   "source": [
    "t[1]"
   ]
  },
  {
   "cell_type": "code",
   "execution_count": 14,
   "id": "ea9adfcc",
   "metadata": {},
   "outputs": [
    {
     "data": {
      "text/plain": [
       "(1, 2)"
      ]
     },
     "execution_count": 14,
     "metadata": {},
     "output_type": "execute_result"
    }
   ],
   "source": [
    "t[:2] #slicing also allowed"
   ]
  },
  {
   "cell_type": "markdown",
   "id": "50289a5c",
   "metadata": {},
   "source": [
    "# EDITING AND ADDING ITEMS ARE NOT ALLOWES"
   ]
  },
  {
   "cell_type": "markdown",
   "id": "841284d2",
   "metadata": {},
   "source": [
    "# dELETION"
   ]
  },
  {
   "cell_type": "code",
   "execution_count": 16,
   "id": "03dcc98c",
   "metadata": {},
   "outputs": [],
   "source": [
    "# SUPPORTS WHOLE DELETING, CANNOT BE DELETED IN SLICES"
   ]
  },
  {
   "cell_type": "code",
   "execution_count": 17,
   "id": "029c1925",
   "metadata": {},
   "outputs": [],
   "source": [
    "# MIN/MAX/LEN/SORTED EVERTHING WORKS AS INTENDED"
   ]
  },
  {
   "cell_type": "markdown",
   "id": "78a4043d",
   "metadata": {},
   "source": [
    "# tUPLE uNPACKING"
   ]
  },
  {
   "cell_type": "code",
   "execution_count": 19,
   "id": "ef92549f",
   "metadata": {},
   "outputs": [],
   "source": [
    "a, b = 1,2"
   ]
  },
  {
   "cell_type": "code",
   "execution_count": 20,
   "id": "9d796030",
   "metadata": {},
   "outputs": [
    {
     "data": {
      "text/plain": [
       "1"
      ]
     },
     "execution_count": 20,
     "metadata": {},
     "output_type": "execute_result"
    }
   ],
   "source": [
    "a"
   ]
  },
  {
   "cell_type": "code",
   "execution_count": 21,
   "id": "0448f699",
   "metadata": {},
   "outputs": [
    {
     "data": {
      "text/plain": [
       "2"
      ]
     },
     "execution_count": 21,
     "metadata": {},
     "output_type": "execute_result"
    }
   ],
   "source": [
    "b"
   ]
  },
  {
   "cell_type": "code",
   "execution_count": 25,
   "id": "93e6a9f4",
   "metadata": {},
   "outputs": [],
   "source": [
    "a, b = b, a # swapping using tuple unpacking"
   ]
  },
  {
   "cell_type": "code",
   "execution_count": 23,
   "id": "9c1106c5",
   "metadata": {},
   "outputs": [
    {
     "data": {
      "text/plain": [
       "2"
      ]
     },
     "execution_count": 23,
     "metadata": {},
     "output_type": "execute_result"
    }
   ],
   "source": [
    "a"
   ]
  },
  {
   "cell_type": "code",
   "execution_count": 24,
   "id": "bb554571",
   "metadata": {},
   "outputs": [
    {
     "data": {
      "text/plain": [
       "1"
      ]
     },
     "execution_count": 24,
     "metadata": {},
     "output_type": "execute_result"
    }
   ],
   "source": [
    "b"
   ]
  },
  {
   "cell_type": "code",
   "execution_count": 30,
   "id": "1006abad",
   "metadata": {},
   "outputs": [],
   "source": [
    "a , *others, b = (1,2,3,4,5,6) # another interesting tuple play"
   ]
  },
  {
   "cell_type": "code",
   "execution_count": 27,
   "id": "e1370ac0",
   "metadata": {},
   "outputs": [
    {
     "data": {
      "text/plain": [
       "1"
      ]
     },
     "execution_count": 27,
     "metadata": {},
     "output_type": "execute_result"
    }
   ],
   "source": [
    "a"
   ]
  },
  {
   "cell_type": "code",
   "execution_count": 28,
   "id": "bc1d8351",
   "metadata": {},
   "outputs": [
    {
     "data": {
      "text/plain": [
       "6"
      ]
     },
     "execution_count": 28,
     "metadata": {},
     "output_type": "execute_result"
    }
   ],
   "source": [
    "b"
   ]
  },
  {
   "cell_type": "code",
   "execution_count": 29,
   "id": "109e0443",
   "metadata": {},
   "outputs": [
    {
     "data": {
      "text/plain": [
       "[2, 3, 4, 5]"
      ]
     },
     "execution_count": 29,
     "metadata": {},
     "output_type": "execute_result"
    }
   ],
   "source": [
    "others"
   ]
  }
 ],
 "metadata": {
  "kernelspec": {
   "display_name": "Python 3",
   "language": "python",
   "name": "python3"
  },
  "language_info": {
   "codemirror_mode": {
    "name": "ipython",
    "version": 3
   },
   "file_extension": ".py",
   "mimetype": "text/x-python",
   "name": "python",
   "nbconvert_exporter": "python",
   "pygments_lexer": "ipython3",
   "version": "3.8.8"
  }
 },
 "nbformat": 4,
 "nbformat_minor": 5
}
