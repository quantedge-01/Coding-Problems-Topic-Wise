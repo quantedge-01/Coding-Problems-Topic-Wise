{
 "cells": [
  {
   "cell_type": "markdown",
   "id": "82db0537",
   "metadata": {},
   "source": [
    "# interchange first and last element"
   ]
  },
  {
   "cell_type": "code",
   "execution_count": 44,
   "id": "4b89a3cc",
   "metadata": {},
   "outputs": [
    {
     "data": {
      "text/plain": [
       "[24, 35, 9, 56, 12]"
      ]
     },
     "execution_count": 44,
     "metadata": {},
     "output_type": "execute_result"
    }
   ],
   "source": [
    "a = [12, 35, 9, 56, 24]\n",
    "\n",
    "p = a[0]\n",
    "\n",
    "a[0] = a[-1]\n",
    "\n",
    "a[-1] = p\n",
    "\n",
    "a"
   ]
  },
  {
   "cell_type": "markdown",
   "id": "8fbe80e8",
   "metadata": {},
   "source": [
    "# fancy way , pythonic way"
   ]
  },
  {
   "cell_type": "code",
   "execution_count": 24,
   "id": "e2bc1992",
   "metadata": {},
   "outputs": [],
   "source": [
    "a[0] , a[-1] = a[-1] , a[0]"
   ]
  },
  {
   "cell_type": "code",
   "execution_count": 31,
   "id": "de5eaaee",
   "metadata": {},
   "outputs": [],
   "source": [
    "#tuple_way"
   ]
  },
  {
   "cell_type": "code",
   "execution_count": 45,
   "id": "e4c9ca94",
   "metadata": {},
   "outputs": [
    {
     "data": {
      "text/plain": [
       "[12, 35, 9, 56, 24]"
      ]
     },
     "execution_count": 45,
     "metadata": {},
     "output_type": "execute_result"
    }
   ],
   "source": [
    "get = a[0] , a[-1]\n",
    "\n",
    "a[-1] , a[0] = get\n",
    "\n",
    "a"
   ]
  },
  {
   "cell_type": "markdown",
   "id": "4bdd6aa3",
   "metadata": {},
   "source": [
    "# More Fancier"
   ]
  },
  {
   "cell_type": "code",
   "execution_count": 38,
   "id": "560fb8a3",
   "metadata": {},
   "outputs": [],
   "source": [
    "a , *b , c = [1,2,3,4,5]"
   ]
  },
  {
   "cell_type": "code",
   "execution_count": 41,
   "id": "1254ff6b",
   "metadata": {},
   "outputs": [
    {
     "data": {
      "text/plain": [
       "[5, 2, 3, 4, 1]"
      ]
     },
     "execution_count": 41,
     "metadata": {},
     "output_type": "execute_result"
    }
   ],
   "source": [
    "[c , *b , a]"
   ]
  },
  {
   "cell_type": "code",
   "execution_count": 46,
   "id": "a99fd124",
   "metadata": {},
   "outputs": [],
   "source": [
    "# Swapping Two Elements"
   ]
  },
  {
   "cell_type": "code",
   "execution_count": 47,
   "id": "ad734b5f",
   "metadata": {},
   "outputs": [
    {
     "name": "stdout",
     "output_type": "stream",
     "text": [
      "[19, 65, 23, 90]\n"
     ]
    }
   ],
   "source": [
    "# Python3 program to swap elements\n",
    "# at given positions\n",
    "\n",
    "# Swap function\n",
    "def swapPositions(list, pos1, pos2):\n",
    "\n",
    "    list[pos1], list[pos2] = list[pos2], list[pos1]\n",
    "    return list\n",
    "\n",
    "# Driver function\n",
    "List = [23, 65, 19, 90]\n",
    "pos1, pos2 = 1, 3\n",
    "\n",
    "print(swapPositions(List, pos1-1, pos2-1))\n"
   ]
  },
  {
   "cell_type": "markdown",
   "id": "8a5fd6d9",
   "metadata": {},
   "source": [
    "# Length of list"
   ]
  },
  {
   "cell_type": "code",
   "execution_count": 49,
   "id": "19a99028",
   "metadata": {},
   "outputs": [],
   "source": [
    "# 1st is loop method"
   ]
  },
  {
   "cell_type": "code",
   "execution_count": 50,
   "id": "789e5e7f",
   "metadata": {},
   "outputs": [],
   "source": [
    "test_list = [5, 7, 8 ,9]"
   ]
  },
  {
   "cell_type": "code",
   "execution_count": 51,
   "id": "be8bfe17",
   "metadata": {},
   "outputs": [],
   "source": [
    "list_len = sum(1 for i in test_list)\n"
   ]
  },
  {
   "cell_type": "markdown",
   "id": "23b7a4cc",
   "metadata": {},
   "source": [
    "# Find Maximum of two numbers in Python"
   ]
  },
  {
   "cell_type": "code",
   "execution_count": 55,
   "id": "0da5df9f",
   "metadata": {},
   "outputs": [],
   "source": [
    "a = 4\n",
    "b = 3"
   ]
  },
  {
   "cell_type": "code",
   "execution_count": 57,
   "id": "1836d8c4",
   "metadata": {},
   "outputs": [
    {
     "name": "stdout",
     "output_type": "stream",
     "text": [
      "a is greater\n"
     ]
    }
   ],
   "source": [
    "if a> b:\n",
    "    print('a is greater')\n",
    "else:\n",
    "    print('b is greater')"
   ]
  },
  {
   "cell_type": "code",
   "execution_count": 60,
   "id": "d3004eeb",
   "metadata": {},
   "outputs": [
    {
     "name": "stdout",
     "output_type": "stream",
     "text": [
      "4\n"
     ]
    }
   ],
   "source": [
    "#cool way\n",
    "print(a if a >= b else b)"
   ]
  },
  {
   "cell_type": "markdown",
   "id": "2857c33f",
   "metadata": {},
   "source": [
    "# Check if element exists in list in Python"
   ]
  },
  {
   "cell_type": "code",
   "execution_count": 61,
   "id": "843bc371",
   "metadata": {},
   "outputs": [
    {
     "name": "stdout",
     "output_type": "stream",
     "text": [
      "hai\n"
     ]
    }
   ],
   "source": [
    "if 5 in test_list:\n",
    "    print('hai')\n",
    "else:\n",
    "    print('nahi hai')"
   ]
  },
  {
   "cell_type": "code",
   "execution_count": 63,
   "id": "a1696bef",
   "metadata": {},
   "outputs": [],
   "source": [
    "# 2nd way using loop\n",
    "for i in test_list:     \n",
    "    if(i == 4):         \n",
    "        print(\"Element Exists\")"
   ]
  },
  {
   "cell_type": "code",
   "execution_count": 65,
   "id": "cc7b401f",
   "metadata": {},
   "outputs": [],
   "source": [
    "# 3rd way\n",
    "item = test_list.count(15)\n",
    "\n",
    "if len(item) > 0:\n",
    "    print('found')\n",
    "else:\n",
    "    print('not exist')"
   ]
  },
  {
   "cell_type": "code",
   "execution_count": null,
   "id": "998071cc",
   "metadata": {},
   "outputs": [],
   "source": [
    "# 4th way\n",
    "my_list = [1, 2, 3, 4, 5]\n",
    "element_to_check = 3\n",
    "\n",
    "# Use filter to create an iterator of elements equal to the target element\n",
    "filtered_elements = filter(lambda x: x == element_to_check, my_list)\n",
    "\n",
    "# Convert the iterator to a list and check if it's not empty\n",
    "if list(filtered_elements):\n",
    "    print(\"Element exists in the list\")\n",
    "else:\n",
    "    print(\"Element does not exist in the list\")\n"
   ]
  },
  {
   "cell_type": "markdown",
   "id": "aa5b6dfa",
   "metadata": {},
   "source": [
    "# Clearing a list"
   ]
  },
  {
   "cell_type": "code",
   "execution_count": null,
   "id": "a39733d4",
   "metadata": {},
   "outputs": [],
   "source": [
    "# 1st way"
   ]
  },
  {
   "cell_type": "code",
   "execution_count": 68,
   "id": "1e995f21",
   "metadata": {},
   "outputs": [],
   "source": [
    "test_list.clear()"
   ]
  },
  {
   "cell_type": "code",
   "execution_count": null,
   "id": "7f557959",
   "metadata": {},
   "outputs": [],
   "source": [
    "# 2nd way"
   ]
  },
  {
   "cell_type": "code",
   "execution_count": 70,
   "id": "6d5f7325",
   "metadata": {},
   "outputs": [],
   "source": [
    "test_list = [] # also called reinitialization"
   ]
  },
  {
   "cell_type": "code",
   "execution_count": null,
   "id": "c9786493",
   "metadata": {},
   "outputs": [],
   "source": [
    "# 3rd way\n",
    "del test_list[:]"
   ]
  },
  {
   "cell_type": "code",
   "execution_count": 74,
   "id": "a483dc88",
   "metadata": {},
   "outputs": [
    {
     "data": {
      "text/plain": [
       "[]"
      ]
     },
     "execution_count": 74,
     "metadata": {},
     "output_type": "execute_result"
    }
   ],
   "source": [
    "# 4th using slicing\n",
    "\n",
    "lst = [8,9,89]\n",
    "\n",
    "lst = lst[:0]\n",
    "\n",
    "lst"
   ]
  },
  {
   "cell_type": "code",
   "execution_count": null,
   "id": "ecfb19a1",
   "metadata": {},
   "outputs": [],
   "source": [
    "# 5th way\n",
    "ty = [item for item in lst if False]"
   ]
  },
  {
   "cell_type": "markdown",
   "id": "8fb65af3",
   "metadata": {},
   "source": [
    "# REVERSING A LIST"
   ]
  },
  {
   "cell_type": "code",
   "execution_count": 75,
   "id": "fc3244fd",
   "metadata": {},
   "outputs": [],
   "source": [
    "L = [9,8,8,67,89]"
   ]
  },
  {
   "cell_type": "code",
   "execution_count": null,
   "id": "814a61df",
   "metadata": {},
   "outputs": [],
   "source": [
    "# 1st way\n",
    "\n",
    "L.reverse()"
   ]
  },
  {
   "cell_type": "code",
   "execution_count": null,
   "id": "a63563bd",
   "metadata": {},
   "outputs": [],
   "source": [
    "# 2nd way\n",
    "\n",
    "L[::-1]"
   ]
  },
  {
   "cell_type": "code",
   "execution_count": 83,
   "id": "8daf07c6",
   "metadata": {},
   "outputs": [
    {
     "name": "stdout",
     "output_type": "stream",
     "text": [
      "[7, 6, 5, 4, 3, 2, 1]\n"
     ]
    }
   ],
   "source": [
    "# Reversing a list using two-pointer approach\n",
    "def reverse_list(arr):\n",
    "    left = 0\n",
    "    right = len(arr)-1\n",
    "    while (left < right):\n",
    "    # Swap\n",
    "        temp = arr[left]\n",
    "        arr[left] = arr[right]\n",
    "        arr[right] = temp\n",
    "        left += 1\n",
    "        right -= 1\n",
    "\n",
    "    return arr\n",
    "\n",
    "arr = [1, 2, 3, 4, 5, 6, 7]\n",
    "print(reverse_list(arr))\n"
   ]
  },
  {
   "cell_type": "markdown",
   "id": "707941cb",
   "metadata": {},
   "source": [
    "# copying"
   ]
  },
  {
   "cell_type": "code",
   "execution_count": 103,
   "id": "f6b12bff",
   "metadata": {},
   "outputs": [],
   "source": [
    "b = [2,3]"
   ]
  },
  {
   "cell_type": "code",
   "execution_count": 107,
   "id": "8282c10f",
   "metadata": {},
   "outputs": [],
   "source": [
    "# 1st way , most efficient # slicing returns a new list\n",
    "c = b[:]\n"
   ]
  },
  {
   "cell_type": "code",
   "execution_count": 109,
   "id": "14e71669",
   "metadata": {},
   "outputs": [
    {
     "data": {
      "text/plain": [
       "[2, 3]"
      ]
     },
     "execution_count": 109,
     "metadata": {},
     "output_type": "execute_result"
    }
   ],
   "source": [
    "# 2nd way\n",
    "c = []\n",
    "c.extend(b)\n",
    "c"
   ]
  },
  {
   "cell_type": "code",
   "execution_count": 110,
   "id": "ff43b006",
   "metadata": {},
   "outputs": [
    {
     "data": {
      "text/plain": [
       "[2, 3]"
      ]
     },
     "execution_count": 110,
     "metadata": {},
     "output_type": "execute_result"
    }
   ],
   "source": [
    "# 3rd way using list comprehenskon\n",
    "[i for i in b]"
   ]
  },
  {
   "cell_type": "code",
   "execution_count": 112,
   "id": "d2ed2fd4",
   "metadata": {},
   "outputs": [],
   "source": [
    "c = b.copy # not efficient takes time"
   ]
  },
  {
   "cell_type": "code",
   "execution_count": 93,
   "id": "79e6972d",
   "metadata": {},
   "outputs": [],
   "source": [
    "left = 0\n",
    "right = len(v) - 1\n",
    "\n",
    "while left < right:\n",
    "    temp = v[left]\n",
    "    v[left] = v[right]\n",
    "    v[right] = temp\n",
    "    right = right -1\n",
    "    left = left + 1\n",
    "    "
   ]
  },
  {
   "cell_type": "markdown",
   "id": "a69c0c98",
   "metadata": {},
   "source": [
    "# sum of a numbers of list"
   ]
  },
  {
   "cell_type": "code",
   "execution_count": 1,
   "id": "46436965",
   "metadata": {},
   "outputs": [],
   "source": [
    "test_list = [12, 67, 98, 34]\n",
    "# output[3, 13 , 17 ,7]"
   ]
  },
  {
   "cell_type": "code",
   "execution_count": 2,
   "id": "351fe02e",
   "metadata": {},
   "outputs": [
    {
     "data": {
      "text/plain": [
       "[3, 13, 17, 7]"
      ]
     },
     "execution_count": 2,
     "metadata": {},
     "output_type": "execute_result"
    }
   ],
   "source": [
    "store = []\n",
    "\n",
    "for n in test_list:\n",
    "\n",
    "    rem = n %10\n",
    "\n",
    "    sec = n //10\n",
    "\n",
    "    store.append(rem+sec) \n",
    "\n",
    "store # approach 1"
   ]
  },
  {
   "cell_type": "code",
   "execution_count": 24,
   "id": "b90b32ec",
   "metadata": {},
   "outputs": [],
   "source": [
    "# 2nd way"
   ]
  },
  {
   "cell_type": "code",
   "execution_count": 39,
   "id": "70308cf2",
   "metadata": {},
   "outputs": [],
   "source": [
    "val = []\n",
    "for n in test_list:\n",
    "    res = 0\n",
    "    for i in str(n):\n",
    "        res = res + int(i)\n",
    "    val.append(res)\n",
    "\n",
    "val"
   ]
  },
  {
   "cell_type": "code",
   "execution_count": 41,
   "id": "d8fa726d",
   "metadata": {},
   "outputs": [],
   "source": [
    "# 3rd way "
   ]
  },
  {
   "cell_type": "code",
   "execution_count": 55,
   "id": "c3be5088",
   "metadata": {},
   "outputs": [
    {
     "data": {
      "text/plain": [
       "[3, 13, 17, 7]"
      ]
     },
     "execution_count": 55,
     "metadata": {},
     "output_type": "execute_result"
    }
   ],
   "source": [
    "list(map(lambda x : sum(int(m) for m in str(x)) , test_list))"
   ]
  },
  {
   "cell_type": "code",
   "execution_count": null,
   "id": "cdaed357",
   "metadata": {},
   "outputs": [],
   "source": [
    "# 4th way"
   ]
  },
  {
   "cell_type": "code",
   "execution_count": 70,
   "id": "1c1f9aa0",
   "metadata": {},
   "outputs": [
    {
     "data": {
      "text/plain": [
       "[3, 13, 17, 7]"
      ]
     },
     "execution_count": 70,
     "metadata": {},
     "output_type": "execute_result"
    }
   ],
   "source": [
    "[sum(int(n) for n in str(num)) for num in test_list] # generator expression and list comprehensoin"
   ]
  },
  {
   "cell_type": "markdown",
   "id": "437946b4",
   "metadata": {},
   "source": [
    "# smallest number in a list"
   ]
  },
  {
   "cell_type": "code",
   "execution_count": 8,
   "id": "4d49432e",
   "metadata": {},
   "outputs": [],
   "source": [
    "kl = [12,3,54,56,78,54,3,6]"
   ]
  },
  {
   "cell_type": "code",
   "execution_count": 79,
   "id": "e8a6507e",
   "metadata": {},
   "outputs": [],
   "source": [
    "mini = float('inf')\n",
    "for k in kl:\n",
    "    if k < mini:\n",
    "        mini = k\n",
    "\n",
    "mini"
   ]
  },
  {
   "cell_type": "code",
   "execution_count": 81,
   "id": "d3ccc75d",
   "metadata": {},
   "outputs": [],
   "source": [
    "# using sort "
   ]
  },
  {
   "cell_type": "code",
   "execution_count": 105,
   "id": "a0b7eb27",
   "metadata": {},
   "outputs": [
    {
     "data": {
      "text/plain": [
       "56"
      ]
     },
     "execution_count": 105,
     "metadata": {},
     "output_type": "execute_result"
    }
   ],
   "source": [
    "kl.sort()\n",
    "\n",
    "kl[-2] # smallest"
   ]
  },
  {
   "cell_type": "code",
   "execution_count": null,
   "id": "47282573",
   "metadata": {},
   "outputs": [],
   "source": [
    "# min()"
   ]
  },
  {
   "cell_type": "code",
   "execution_count": 86,
   "id": "e7563c1c",
   "metadata": {},
   "outputs": [
    {
     "data": {
      "text/plain": [
       "3"
      ]
     },
     "execution_count": 86,
     "metadata": {},
     "output_type": "execute_result"
    }
   ],
   "source": [
    "min(kl)"
   ]
  },
  {
   "cell_type": "markdown",
   "id": "24195326",
   "metadata": {},
   "source": [
    "# second largest number in a list"
   ]
  },
  {
   "cell_type": "code",
   "execution_count": 9,
   "id": "812d88d1",
   "metadata": {},
   "outputs": [],
   "source": [
    "kk = list(set(kl)) # using set tpo eliminate all duplicates"
   ]
  },
  {
   "cell_type": "code",
   "execution_count": 95,
   "id": "c48fd8c3",
   "metadata": {},
   "outputs": [],
   "source": [
    "# Traverse once to find the largest and then once again \n",
    "#to find the second largest"
   ]
  },
  {
   "cell_type": "code",
   "execution_count": 103,
   "id": "d8f71877",
   "metadata": {},
   "outputs": [
    {
     "data": {
      "text/plain": [
       "67"
      ]
     },
     "execution_count": 103,
     "metadata": {},
     "output_type": "execute_result"
    }
   ],
   "source": [
    "second_largest = 0\n",
    "largest = min(test_list)\n",
    "\n",
    "for i in range(len(test_list)):\n",
    "    if test_list[i] > largest:\n",
    "        second_largest = largest\n",
    "        largest = test_list[i]\n",
    "    else:\n",
    "        second_largest = max(second_largest , test_list[i])\n",
    "        \n",
    "second_largest"
   ]
  },
  {
   "cell_type": "code",
   "execution_count": null,
   "id": "4ea48c5b",
   "metadata": {},
   "outputs": [],
   "source": [
    "#3rd way"
   ]
  },
  {
   "cell_type": "code",
   "execution_count": 11,
   "id": "8f84f2d6-2929-4831-978b-eff198c78b3f",
   "metadata": {},
   "outputs": [
    {
     "data": {
      "text/plain": [
       "[12, 67, 98, 34]"
      ]
     },
     "execution_count": 11,
     "metadata": {},
     "output_type": "execute_result"
    }
   ],
   "source": [
    "test_list"
   ]
  },
  {
   "cell_type": "code",
   "execution_count": 12,
   "id": "b9969bd6",
   "metadata": {},
   "outputs": [
    {
     "data": {
      "text/plain": [
       "67"
      ]
     },
     "execution_count": 12,
     "metadata": {},
     "output_type": "execute_result"
    }
   ],
   "source": [
    "m = max(test_list)\n",
    "\n",
    "max([n for n in test_list if n < m])\n"
   ]
  },
  {
   "cell_type": "markdown",
   "id": "2a60d84e",
   "metadata": {},
   "source": [
    "# remove multiplr elements from a list"
   ]
  },
  {
   "cell_type": "code",
   "execution_count": 111,
   "id": "96c55f62",
   "metadata": {},
   "outputs": [],
   "source": [
    "k = [1,2,3,4,5]\n",
    "to_remove = [1,3]"
   ]
  },
  {
   "cell_type": "code",
   "execution_count": 112,
   "id": "12596c5e",
   "metadata": {},
   "outputs": [
    {
     "data": {
      "text/plain": [
       "[2, 4, 5]"
      ]
     },
     "execution_count": 112,
     "metadata": {},
     "output_type": "execute_result"
    }
   ],
   "source": [
    "[n for n in k if n not in to_remove]"
   ]
  },
  {
   "cell_type": "markdown",
   "id": "0f8dcfbd",
   "metadata": {},
   "source": [
    "# removing empty tuplres from a list"
   ]
  },
  {
   "cell_type": "code",
   "execution_count": 115,
   "id": "babd84f6",
   "metadata": {},
   "outputs": [],
   "source": [
    "tuples = [(), ('ram','15','8'), (), ('laxman', 'sita'),('krishna', 'akbar', '45'), ('',''),()]"
   ]
  },
  {
   "cell_type": "code",
   "execution_count": 116,
   "id": "3e9b3985",
   "metadata": {},
   "outputs": [
    {
     "data": {
      "text/plain": [
       "[('ram', '15', '8'), ('laxman', 'sita'), ('krishna', 'akbar', '45'), ('', '')]"
      ]
     },
     "execution_count": 116,
     "metadata": {},
     "output_type": "execute_result"
    }
   ],
   "source": [
    "[n for n in tuples if n]"
   ]
  },
  {
   "cell_type": "code",
   "execution_count": 117,
   "id": "573ada77",
   "metadata": {},
   "outputs": [],
   "source": [
    "# using filter"
   ]
  },
  {
   "cell_type": "code",
   "execution_count": 119,
   "id": "12970e93",
   "metadata": {},
   "outputs": [
    {
     "data": {
      "text/plain": [
       "[('ram', '15', '8'), ('laxman', 'sita'), ('krishna', 'akbar', '45'), ('', '')]"
      ]
     },
     "execution_count": 119,
     "metadata": {},
     "output_type": "execute_result"
    }
   ],
   "source": [
    "list(filter(None , tuples))"
   ]
  },
  {
   "cell_type": "markdown",
   "id": "f3ba81f9",
   "metadata": {},
   "source": [
    "# Program to print duplicates from a list of integers"
   ]
  },
  {
   "cell_type": "code",
   "execution_count": 121,
   "id": "6e34f49a",
   "metadata": {},
   "outputs": [],
   "source": [
    "lis = [10, 20, 30, 20, 20, 30, 40, 50, -20, 60, 60, -20, -20]"
   ]
  },
  {
   "cell_type": "code",
   "execution_count": 123,
   "id": "a8df037f",
   "metadata": {},
   "outputs": [],
   "source": [
    "unique = []\n",
    "duplicates = []\n",
    "for n in lis:\n",
    "    if n not in unique:\n",
    "        unique.append(n)\n",
    "    elif n not in duplicates:\n",
    "        duplicates.append(n)"
   ]
  },
  {
   "cell_type": "code",
   "execution_count": 124,
   "id": "81034736",
   "metadata": {},
   "outputs": [
    {
     "data": {
      "text/plain": [
       "[10, 20, 30, 40, 50, -20, 60]"
      ]
     },
     "execution_count": 124,
     "metadata": {},
     "output_type": "execute_result"
    }
   ],
   "source": [
    "unique"
   ]
  },
  {
   "cell_type": "code",
   "execution_count": 126,
   "id": "4f80dcf5",
   "metadata": {},
   "outputs": [
    {
     "data": {
      "text/plain": [
       "[20, 30, 60, -20]"
      ]
     },
     "execution_count": 126,
     "metadata": {},
     "output_type": "execute_result"
    }
   ],
   "source": [
    "duplicates"
   ]
  },
  {
   "cell_type": "markdown",
   "id": "4f32f565",
   "metadata": {},
   "source": [
    "# List Comprehension"
   ]
  },
  {
   "cell_type": "code",
   "execution_count": 113,
   "id": "b4f8ec01",
   "metadata": {},
   "outputs": [],
   "source": [
    "#Given a list of numbers, remove all odd numbers from the list:\n",
    "\n",
    "numbers = [3,5,45,97,32,22,10,19,39,43]"
   ]
  },
  {
   "cell_type": "code",
   "execution_count": 117,
   "id": "db4fcd67",
   "metadata": {},
   "outputs": [
    {
     "data": {
      "text/plain": [
       "[32, 22, 10]"
      ]
     },
     "execution_count": 117,
     "metadata": {},
     "output_type": "execute_result"
    }
   ],
   "source": [
    "[num for num in numbers if num%2== 0]"
   ]
  },
  {
   "cell_type": "code",
   "execution_count": null,
   "id": "07159736",
   "metadata": {},
   "outputs": [],
   "source": [
    "# Remove floats"
   ]
  },
  {
   "cell_type": "code",
   "execution_count": 119,
   "id": "87cc4e30",
   "metadata": {},
   "outputs": [],
   "source": [
    "original_list = [2,3.75,.04,59.354,6,7.7777,8,9]"
   ]
  },
  {
   "cell_type": "code",
   "execution_count": 120,
   "id": "5df6b71a",
   "metadata": {},
   "outputs": [
    {
     "data": {
      "text/plain": [
       "[2, 6, 8, 9]"
      ]
     },
     "execution_count": 120,
     "metadata": {},
     "output_type": "execute_result"
    }
   ],
   "source": [
    "[n for n in original_list if type(n) == int]"
   ]
  },
  {
   "cell_type": "code",
   "execution_count": 121,
   "id": "ea20bfbf",
   "metadata": {},
   "outputs": [],
   "source": [
    "#Find all of the numbers from 1-1000 that are divisible by 7"
   ]
  },
  {
   "cell_type": "code",
   "execution_count": 122,
   "id": "66b1722a",
   "metadata": {},
   "outputs": [
    {
     "data": {
      "text/plain": [
       "[0,\n",
       " 7,\n",
       " 14,\n",
       " 21,\n",
       " 28,\n",
       " 35,\n",
       " 42,\n",
       " 49,\n",
       " 56,\n",
       " 63,\n",
       " 70,\n",
       " 77,\n",
       " 84,\n",
       " 91,\n",
       " 98,\n",
       " 105,\n",
       " 112,\n",
       " 119,\n",
       " 126,\n",
       " 133,\n",
       " 140,\n",
       " 147,\n",
       " 154,\n",
       " 161,\n",
       " 168,\n",
       " 175,\n",
       " 182,\n",
       " 189,\n",
       " 196,\n",
       " 203,\n",
       " 210,\n",
       " 217,\n",
       " 224,\n",
       " 231,\n",
       " 238,\n",
       " 245,\n",
       " 252,\n",
       " 259,\n",
       " 266,\n",
       " 273,\n",
       " 280,\n",
       " 287,\n",
       " 294,\n",
       " 301,\n",
       " 308,\n",
       " 315,\n",
       " 322,\n",
       " 329,\n",
       " 336,\n",
       " 343,\n",
       " 350,\n",
       " 357,\n",
       " 364,\n",
       " 371,\n",
       " 378,\n",
       " 385,\n",
       " 392,\n",
       " 399,\n",
       " 406,\n",
       " 413,\n",
       " 420,\n",
       " 427,\n",
       " 434,\n",
       " 441,\n",
       " 448,\n",
       " 455,\n",
       " 462,\n",
       " 469,\n",
       " 476,\n",
       " 483,\n",
       " 490,\n",
       " 497,\n",
       " 504,\n",
       " 511,\n",
       " 518,\n",
       " 525,\n",
       " 532,\n",
       " 539,\n",
       " 546,\n",
       " 553,\n",
       " 560,\n",
       " 567,\n",
       " 574,\n",
       " 581,\n",
       " 588,\n",
       " 595,\n",
       " 602,\n",
       " 609,\n",
       " 616,\n",
       " 623,\n",
       " 630,\n",
       " 637,\n",
       " 644,\n",
       " 651,\n",
       " 658,\n",
       " 665,\n",
       " 672,\n",
       " 679,\n",
       " 686,\n",
       " 693,\n",
       " 700,\n",
       " 707,\n",
       " 714,\n",
       " 721,\n",
       " 728,\n",
       " 735,\n",
       " 742,\n",
       " 749,\n",
       " 756,\n",
       " 763,\n",
       " 770,\n",
       " 777,\n",
       " 784,\n",
       " 791,\n",
       " 798,\n",
       " 805,\n",
       " 812,\n",
       " 819,\n",
       " 826,\n",
       " 833,\n",
       " 840,\n",
       " 847,\n",
       " 854,\n",
       " 861,\n",
       " 868,\n",
       " 875,\n",
       " 882,\n",
       " 889,\n",
       " 896,\n",
       " 903,\n",
       " 910,\n",
       " 917,\n",
       " 924,\n",
       " 931,\n",
       " 938,\n",
       " 945,\n",
       " 952,\n",
       " 959,\n",
       " 966,\n",
       " 973,\n",
       " 980,\n",
       " 987,\n",
       " 994]"
      ]
     },
     "execution_count": 122,
     "metadata": {},
     "output_type": "execute_result"
    }
   ],
   "source": [
    "[num for num in range(1000) if num % 7 == 0]"
   ]
  },
  {
   "cell_type": "code",
   "execution_count": 123,
   "id": "3caf1c18",
   "metadata": {},
   "outputs": [],
   "source": [
    "#Find all of the numbers from 1-1000 that have a 3 in them"
   ]
  },
  {
   "cell_type": "code",
   "execution_count": 127,
   "id": "66d5bc6f",
   "metadata": {},
   "outputs": [
    {
     "data": {
      "text/plain": [
       "[3,\n",
       " 13,\n",
       " 23,\n",
       " 30,\n",
       " 31,\n",
       " 32,\n",
       " 33,\n",
       " 34,\n",
       " 35,\n",
       " 36,\n",
       " 37,\n",
       " 38,\n",
       " 39,\n",
       " 43,\n",
       " 53,\n",
       " 63,\n",
       " 73,\n",
       " 83,\n",
       " 93,\n",
       " 103,\n",
       " 113,\n",
       " 123,\n",
       " 130,\n",
       " 131,\n",
       " 132,\n",
       " 133,\n",
       " 134,\n",
       " 135,\n",
       " 136,\n",
       " 137,\n",
       " 138,\n",
       " 139,\n",
       " 143,\n",
       " 153,\n",
       " 163,\n",
       " 173,\n",
       " 183,\n",
       " 193,\n",
       " 203,\n",
       " 213,\n",
       " 223,\n",
       " 230,\n",
       " 231,\n",
       " 232,\n",
       " 233,\n",
       " 234,\n",
       " 235,\n",
       " 236,\n",
       " 237,\n",
       " 238,\n",
       " 239,\n",
       " 243,\n",
       " 253,\n",
       " 263,\n",
       " 273,\n",
       " 283,\n",
       " 293,\n",
       " 300,\n",
       " 301,\n",
       " 302,\n",
       " 303,\n",
       " 304,\n",
       " 305,\n",
       " 306,\n",
       " 307,\n",
       " 308,\n",
       " 309,\n",
       " 310,\n",
       " 311,\n",
       " 312,\n",
       " 313,\n",
       " 314,\n",
       " 315,\n",
       " 316,\n",
       " 317,\n",
       " 318,\n",
       " 319,\n",
       " 320,\n",
       " 321,\n",
       " 322,\n",
       " 323,\n",
       " 324,\n",
       " 325,\n",
       " 326,\n",
       " 327,\n",
       " 328,\n",
       " 329,\n",
       " 330,\n",
       " 331,\n",
       " 332,\n",
       " 333,\n",
       " 334,\n",
       " 335,\n",
       " 336,\n",
       " 337,\n",
       " 338,\n",
       " 339,\n",
       " 340,\n",
       " 341,\n",
       " 342,\n",
       " 343,\n",
       " 344,\n",
       " 345,\n",
       " 346,\n",
       " 347,\n",
       " 348,\n",
       " 349,\n",
       " 350,\n",
       " 351,\n",
       " 352,\n",
       " 353,\n",
       " 354,\n",
       " 355,\n",
       " 356,\n",
       " 357,\n",
       " 358,\n",
       " 359,\n",
       " 360,\n",
       " 361,\n",
       " 362,\n",
       " 363,\n",
       " 364,\n",
       " 365,\n",
       " 366,\n",
       " 367,\n",
       " 368,\n",
       " 369,\n",
       " 370,\n",
       " 371,\n",
       " 372,\n",
       " 373,\n",
       " 374,\n",
       " 375,\n",
       " 376,\n",
       " 377,\n",
       " 378,\n",
       " 379,\n",
       " 380,\n",
       " 381,\n",
       " 382,\n",
       " 383,\n",
       " 384,\n",
       " 385,\n",
       " 386,\n",
       " 387,\n",
       " 388,\n",
       " 389,\n",
       " 390,\n",
       " 391,\n",
       " 392,\n",
       " 393,\n",
       " 394,\n",
       " 395,\n",
       " 396,\n",
       " 397,\n",
       " 398,\n",
       " 399,\n",
       " 403,\n",
       " 413,\n",
       " 423,\n",
       " 430,\n",
       " 431,\n",
       " 432,\n",
       " 433,\n",
       " 434,\n",
       " 435,\n",
       " 436,\n",
       " 437,\n",
       " 438,\n",
       " 439,\n",
       " 443,\n",
       " 453,\n",
       " 463,\n",
       " 473,\n",
       " 483,\n",
       " 493,\n",
       " 503,\n",
       " 513,\n",
       " 523,\n",
       " 530,\n",
       " 531,\n",
       " 532,\n",
       " 533,\n",
       " 534,\n",
       " 535,\n",
       " 536,\n",
       " 537,\n",
       " 538,\n",
       " 539,\n",
       " 543,\n",
       " 553,\n",
       " 563,\n",
       " 573,\n",
       " 583,\n",
       " 593,\n",
       " 603,\n",
       " 613,\n",
       " 623,\n",
       " 630,\n",
       " 631,\n",
       " 632,\n",
       " 633,\n",
       " 634,\n",
       " 635,\n",
       " 636,\n",
       " 637,\n",
       " 638,\n",
       " 639,\n",
       " 643,\n",
       " 653,\n",
       " 663,\n",
       " 673,\n",
       " 683,\n",
       " 693,\n",
       " 703,\n",
       " 713,\n",
       " 723,\n",
       " 730,\n",
       " 731,\n",
       " 732,\n",
       " 733,\n",
       " 734,\n",
       " 735,\n",
       " 736,\n",
       " 737,\n",
       " 738,\n",
       " 739,\n",
       " 743,\n",
       " 753,\n",
       " 763,\n",
       " 773,\n",
       " 783,\n",
       " 793,\n",
       " 803,\n",
       " 813,\n",
       " 823,\n",
       " 830,\n",
       " 831,\n",
       " 832,\n",
       " 833,\n",
       " 834,\n",
       " 835,\n",
       " 836,\n",
       " 837,\n",
       " 838,\n",
       " 839,\n",
       " 843,\n",
       " 853,\n",
       " 863,\n",
       " 873,\n",
       " 883,\n",
       " 893,\n",
       " 903,\n",
       " 913,\n",
       " 923,\n",
       " 930,\n",
       " 931,\n",
       " 932,\n",
       " 933,\n",
       " 934,\n",
       " 935,\n",
       " 936,\n",
       " 937,\n",
       " 938,\n",
       " 939,\n",
       " 943,\n",
       " 953,\n",
       " 963,\n",
       " 973,\n",
       " 983,\n",
       " 993]"
      ]
     },
     "execution_count": 127,
     "metadata": {},
     "output_type": "execute_result"
    }
   ],
   "source": [
    "[num for num in range(1000) if '3' in str(num)]"
   ]
  },
  {
   "cell_type": "code",
   "execution_count": 137,
   "id": "b830dbf0",
   "metadata": {},
   "outputs": [],
   "source": [
    "item = 'Count the number of spaces in a string'"
   ]
  },
  {
   "cell_type": "code",
   "execution_count": 140,
   "id": "68eb2d84",
   "metadata": {},
   "outputs": [],
   "source": [
    "lk = [ i for i in item if i == ' ']\n",
    "\n",
    "len(lk)"
   ]
  },
  {
   "cell_type": "code",
   "execution_count": 143,
   "id": "af5dbf71",
   "metadata": {},
   "outputs": [
    {
     "data": {
      "text/plain": [
       "'Create a list of all the consonants in the string \\n“Yellow Yaks like yelling and yawning and yesturday \\nthey yodled while eating yuky yams”'"
      ]
     },
     "execution_count": 143,
     "metadata": {},
     "output_type": "execute_result"
    }
   ],
   "source": [
    "'''Create a list of all the consonants in the string \n",
    "“Yellow Yaks like yelling and yawning and yesturday \n",
    "they yodled while eating yuky yams”'''"
   ]
  },
  {
   "cell_type": "code",
   "execution_count": 142,
   "id": "fb94065b",
   "metadata": {},
   "outputs": [],
   "source": [
    "sen = 'Yellow Yaks like yelling and yawning and yesturday they yodled while eating yuky yams'"
   ]
  },
  {
   "cell_type": "code",
   "execution_count": 144,
   "id": "7cf5463f",
   "metadata": {},
   "outputs": [
    {
     "data": {
      "text/plain": [
       "['Y',\n",
       " 'l',\n",
       " 'l',\n",
       " 'w',\n",
       " ' ',\n",
       " 'Y',\n",
       " 'k',\n",
       " 's',\n",
       " ' ',\n",
       " 'l',\n",
       " 'k',\n",
       " ' ',\n",
       " 'y',\n",
       " 'l',\n",
       " 'l',\n",
       " 'n',\n",
       " 'g',\n",
       " ' ',\n",
       " 'n',\n",
       " 'd',\n",
       " ' ',\n",
       " 'y',\n",
       " 'w',\n",
       " 'n',\n",
       " 'n',\n",
       " 'g',\n",
       " ' ',\n",
       " 'n',\n",
       " 'd',\n",
       " ' ',\n",
       " 'y',\n",
       " 's',\n",
       " 't',\n",
       " 'r',\n",
       " 'd',\n",
       " 'y',\n",
       " ' ',\n",
       " 't',\n",
       " 'h',\n",
       " 'y',\n",
       " ' ',\n",
       " 'y',\n",
       " 'd',\n",
       " 'l',\n",
       " 'd',\n",
       " ' ',\n",
       " 'w',\n",
       " 'h',\n",
       " 'l',\n",
       " ' ',\n",
       " 't',\n",
       " 'n',\n",
       " 'g',\n",
       " ' ',\n",
       " 'y',\n",
       " 'k',\n",
       " 'y',\n",
       " ' ',\n",
       " 'y',\n",
       " 'm',\n",
       " 's']"
      ]
     },
     "execution_count": 144,
     "metadata": {},
     "output_type": "execute_result"
    }
   ],
   "source": [
    "[i for i in sen if i not in 'aeiou']"
   ]
  },
  {
   "cell_type": "code",
   "execution_count": 145,
   "id": "1664eb16",
   "metadata": {},
   "outputs": [],
   "source": [
    "#Get the index and the value as a tuple for items in the list “hi”, 4, 8.99, ‘apple’, (‘t,b’,’n’)."
   ]
  },
  {
   "cell_type": "code",
   "execution_count": 151,
   "id": "d85b871b",
   "metadata": {},
   "outputs": [],
   "source": [
    "temp= ['hi', 4, 8.99, 'apple', ('t','b','n') ]\n",
    "\n",
    "[(i , temp[i] )  for i in range(len(temp))]"
   ]
  },
  {
   "cell_type": "code",
   "execution_count": null,
   "id": "d91ac640",
   "metadata": {},
   "outputs": [],
   "source": [
    "#Find the common numbers in two lists (without using a tuple or set) list_a = 1, 2, 3, 4, list_b = 2, 3, 4, 5"
   ]
  },
  {
   "cell_type": "code",
   "execution_count": 163,
   "id": "c90de683",
   "metadata": {},
   "outputs": [],
   "source": [
    "list_a = 1, 2, 3, 4\n",
    "list_b = 2, 3, 4, 5"
   ]
  },
  {
   "cell_type": "code",
   "execution_count": 164,
   "id": "61e8dcc6",
   "metadata": {},
   "outputs": [
    {
     "data": {
      "text/plain": [
       "[2, 3, 4]"
      ]
     },
     "execution_count": 164,
     "metadata": {},
     "output_type": "execute_result"
    }
   ],
   "source": [
    "[a for a in list_a if a in list_b]"
   ]
  },
  {
   "cell_type": "code",
   "execution_count": 165,
   "id": "e94ba185",
   "metadata": {},
   "outputs": [],
   "source": [
    "#Given numbers = range(20), produce a list containing the word ‘even’ if a \n",
    "#number in the numbers is even, and the word ‘odd’ if the number is odd. \n",
    "#Result would look like ‘odd’,’odd’, ‘even’"
   ]
  },
  {
   "cell_type": "code",
   "execution_count": 169,
   "id": "43e31b93",
   "metadata": {},
   "outputs": [
    {
     "data": {
      "text/plain": [
       "['even',\n",
       " 'odd',\n",
       " 'even',\n",
       " 'odd',\n",
       " 'even',\n",
       " 'odd',\n",
       " 'even',\n",
       " 'odd',\n",
       " 'even',\n",
       " 'odd',\n",
       " 'even',\n",
       " 'odd',\n",
       " 'even',\n",
       " 'odd',\n",
       " 'even',\n",
       " 'odd',\n",
       " 'even',\n",
       " 'odd',\n",
       " 'even',\n",
       " 'odd']"
      ]
     },
     "execution_count": 169,
     "metadata": {},
     "output_type": "execute_result"
    }
   ],
   "source": [
    "['even' if i % 2 == 0 else 'odd' for i in range(20)]"
   ]
  },
  {
   "cell_type": "markdown",
   "id": "73a6320a-9a60-4220-bae6-68def086554f",
   "metadata": {},
   "source": [
    "# Remobing Empty LIST"
   ]
  },
  {
   "cell_type": "code",
   "execution_count": 13,
   "id": "e184c681",
   "metadata": {},
   "outputs": [],
   "source": [
    "test_list = [5, 6, [], 3, [], [], 9]"
   ]
  },
  {
   "cell_type": "code",
   "execution_count": 15,
   "id": "6a176871-4e3a-4bcf-a422-f7a85db64425",
   "metadata": {},
   "outputs": [
    {
     "data": {
      "text/plain": [
       "[5, 6, 3, 9]"
      ]
     },
     "execution_count": 15,
     "metadata": {},
     "output_type": "execute_result"
    }
   ],
   "source": [
    "[el for el in test_list if el]"
   ]
  },
  {
   "cell_type": "code",
   "execution_count": 17,
   "id": "716251ac-91de-45fd-851c-12ba085ab27b",
   "metadata": {},
   "outputs": [],
   "source": [
    "# 2ND WAY"
   ]
  },
  {
   "cell_type": "code",
   "execution_count": 19,
   "id": "4bbb4371-ee76-4da5-a1b4-2e289a356a4f",
   "metadata": {},
   "outputs": [
    {
     "data": {
      "text/plain": [
       "[5, 6, 3, 9]"
      ]
     },
     "execution_count": 19,
     "metadata": {},
     "output_type": "execute_result"
    }
   ],
   "source": [
    "list(filter(None , test_list))"
   ]
  },
  {
   "cell_type": "markdown",
   "id": "163c67f5-6463-46da-8a54-2cdecf7f95b7",
   "metadata": {},
   "source": [
    "# Getting dict from list"
   ]
  },
  {
   "cell_type": "code",
   "execution_count": 29,
   "id": "550f9f0a-4d14-4f7e-bcd3-cb01239b3b76",
   "metadata": {},
   "outputs": [],
   "source": [
    "test_list = [\"Gfg\", 3, \"is\", 8]\n",
    "key_list = [\"name\", \"id\"] "
   ]
  },
  {
   "cell_type": "code",
   "execution_count": 26,
   "id": "c42f6580-bdc6-4889-b1ae-74a0da066398",
   "metadata": {},
   "outputs": [],
   "source": [
    "t_dict = {}"
   ]
  },
  {
   "cell_type": "code",
   "execution_count": 24,
   "id": "8e375e7d-6a1e-4ec9-8793-3669fa4f4923",
   "metadata": {},
   "outputs": [
    {
     "name": "stdout",
     "output_type": "stream",
     "text": [
      "name\n",
      "id\n"
     ]
    }
   ],
   "source": [
    "for key in range(len(key_list)):\n",
    "    if key not in t_dict:\n",
    "        t_dict[key] =  "
   ]
  },
  {
   "cell_type": "code",
   "execution_count": 30,
   "id": "445e88a2-96e9-4367-a0d4-8b7bad66be2c",
   "metadata": {},
   "outputs": [
    {
     "data": {
      "text/plain": [
       "[{'name': 'Gfg'},\n",
       " {'name': 3},\n",
       " {'name': 'is'},\n",
       " {'name': 8},\n",
       " {'id': 'Gfg'},\n",
       " {'id': 3},\n",
       " {'id': 'is'},\n",
       " {'id': 8}]"
      ]
     },
     "execution_count": 30,
     "metadata": {},
     "output_type": "execute_result"
    }
   ],
   "source": [
    "[{k:v}for k in key_list for v in test_list]"
   ]
  }
 ],
 "metadata": {
  "kernelspec": {
   "display_name": "Python 3 (ipykernel)",
   "language": "python",
   "name": "python3"
  },
  "language_info": {
   "codemirror_mode": {
    "name": "ipython",
    "version": 3
   },
   "file_extension": ".py",
   "mimetype": "text/x-python",
   "name": "python",
   "nbconvert_exporter": "python",
   "pygments_lexer": "ipython3",
   "version": "3.11.7"
  }
 },
 "nbformat": 4,
 "nbformat_minor": 5
}
