{
 "cells": [
  {
   "cell_type": "code",
   "execution_count": 2,
   "id": "9e5de32f",
   "metadata": {},
   "outputs": [],
   "source": [
    "my_dict = {}"
   ]
  },
  {
   "cell_type": "markdown",
   "id": "a1dae8a1",
   "metadata": {},
   "source": [
    "# adding key value pairs"
   ]
  },
  {
   "cell_type": "code",
   "execution_count": 7,
   "id": "6171ca06",
   "metadata": {},
   "outputs": [],
   "source": [
    "my_dict['hello'] = 21"
   ]
  },
  {
   "cell_type": "code",
   "execution_count": 9,
   "id": "84d7a07f",
   "metadata": {},
   "outputs": [],
   "source": [
    "my_dict['Hi'] = 56"
   ]
  },
  {
   "cell_type": "code",
   "execution_count": 10,
   "id": "aaf6ae2d",
   "metadata": {},
   "outputs": [
    {
     "data": {
      "text/plain": [
       "dict"
      ]
     },
     "execution_count": 10,
     "metadata": {},
     "output_type": "execute_result"
    }
   ],
   "source": [
    "type(my_dict)"
   ]
  },
  {
   "cell_type": "markdown",
   "id": "3953de23",
   "metadata": {},
   "source": [
    "# fetching keys"
   ]
  },
  {
   "cell_type": "code",
   "execution_count": 12,
   "id": "44fbf868",
   "metadata": {},
   "outputs": [
    {
     "data": {
      "text/plain": [
       "21"
      ]
     },
     "execution_count": 12,
     "metadata": {},
     "output_type": "execute_result"
    }
   ],
   "source": [
    "my_dict['hello'] "
   ]
  },
  {
   "cell_type": "code",
   "execution_count": 13,
   "id": "f23e8c74",
   "metadata": {},
   "outputs": [
    {
     "data": {
      "text/plain": [
       "21"
      ]
     },
     "execution_count": 13,
     "metadata": {},
     "output_type": "execute_result"
    }
   ],
   "source": [
    "my_dict.get('hello') #get method"
   ]
  },
  {
   "cell_type": "code",
   "execution_count": 2,
   "id": "7010befa",
   "metadata": {},
   "outputs": [],
   "source": [
    "#frequency counter\n",
    "d = 'missisippi'\n",
    "\n",
    "dd = {}\n",
    "for k in d:\n",
    "    if k not in dd:\n",
    "        dd[k] = 1\n",
    "    else:\n",
    "        dd[k] += 1"
   ]
  },
  {
   "cell_type": "code",
   "execution_count": 3,
   "id": "0d45ce36",
   "metadata": {},
   "outputs": [
    {
     "data": {
      "text/plain": [
       "{'m': 1, 'i': 4, 's': 3, 'p': 2}"
      ]
     },
     "execution_count": 3,
     "metadata": {},
     "output_type": "execute_result"
    }
   ],
   "source": [
    "dd"
   ]
  },
  {
   "cell_type": "markdown",
   "id": "99feb68a",
   "metadata": {},
   "source": [
    "# now inverting a dictionary of list to a list of dictionary"
   ]
  },
  {
   "cell_type": "code",
   "execution_count": 14,
   "id": "268adc87",
   "metadata": {},
   "outputs": [
    {
     "name": "stdout",
     "output_type": "stream",
     "text": [
      "1\n",
      "4\n",
      "3\n",
      "2\n"
     ]
    },
    {
     "data": {
      "text/plain": [
       "{1: ['m'], 4: ['i'], 3: ['s'], 2: ['p']}"
      ]
     },
     "execution_count": 14,
     "metadata": {},
     "output_type": "execute_result"
    }
   ],
   "source": [
    "inverse = {}\n",
    "for key in dd:\n",
    "    val = dd[key]\n",
    "    if val not in inverse:\n",
    "        inverse[val] = [key]\n",
    "    else:\n",
    "        inverse[val].append(key)\n",
    "    print(val)\n",
    "\n",
    "inverse"
   ]
  },
  {
   "cell_type": "code",
   "execution_count": 17,
   "id": "b05fb8ce",
   "metadata": {},
   "outputs": [],
   "source": [
    "my_dict.update({'karan' : 'Jio'})"
   ]
  },
  {
   "cell_type": "markdown",
   "id": "1c8ddaa6",
   "metadata": {},
   "source": [
    "# memoized version of the fibonacci code"
   ]
  },
  {
   "cell_type": "code",
   "execution_count": 23,
   "id": "069d274e",
   "metadata": {},
   "outputs": [],
   "source": [
    "known  = {0:0 , 1:1}\n",
    "\n",
    "\n",
    "def fibbo(n):\n",
    "    if n in known:\n",
    "        return known[n]\n",
    "    \n",
    "    res = fibbo(n-1) + fibbo(n-2)\n",
    "    known[n] = res\n",
    "    return res"
   ]
  },
  {
   "cell_type": "code",
   "execution_count": 26,
   "id": "ee4d96ba",
   "metadata": {},
   "outputs": [
    {
     "data": {
      "text/plain": [
       "354224848179261915075"
      ]
     },
     "execution_count": 26,
     "metadata": {},
     "output_type": "execute_result"
    }
   ],
   "source": [
    "fibbo(100)"
   ]
  },
  {
   "cell_type": "code",
   "execution_count": 18,
   "id": "41543632",
   "metadata": {},
   "outputs": [
    {
     "data": {
      "text/plain": [
       "{'hello': 21, 'Hi': 56, 'karan': 'Jio'}"
      ]
     },
     "execution_count": 18,
     "metadata": {},
     "output_type": "execute_result"
    }
   ],
   "source": [
    "my_dict"
   ]
  },
  {
   "cell_type": "code",
   "execution_count": 24,
   "id": "7bb83b61",
   "metadata": {},
   "outputs": [
    {
     "data": {
      "text/plain": [
       "21"
      ]
     },
     "execution_count": 24,
     "metadata": {},
     "output_type": "execute_result"
    }
   ],
   "source": [
    "new_dict.pop('hello')"
   ]
  },
  {
   "cell_type": "code",
   "execution_count": 27,
   "id": "485231e5",
   "metadata": {},
   "outputs": [
    {
     "data": {
      "text/plain": [
       "('karan', 'Jio')"
      ]
     },
     "execution_count": 27,
     "metadata": {},
     "output_type": "execute_result"
    }
   ],
   "source": [
    "new_dict.popitem()"
   ]
  },
  {
   "cell_type": "code",
   "execution_count": 28,
   "id": "3efcdc80",
   "metadata": {},
   "outputs": [
    {
     "data": {
      "text/plain": [
       "{'Hi': 56}"
      ]
     },
     "execution_count": 28,
     "metadata": {},
     "output_type": "execute_result"
    }
   ],
   "source": [
    "new_dict"
   ]
  },
  {
   "cell_type": "code",
   "execution_count": 29,
   "id": "96b88a6a",
   "metadata": {},
   "outputs": [
    {
     "data": {
      "text/plain": [
       "{'hello': 21, 'Hi': 56, 'karan': 'Jio'}"
      ]
     },
     "execution_count": 29,
     "metadata": {},
     "output_type": "execute_result"
    }
   ],
   "source": [
    "my_dict"
   ]
  },
  {
   "cell_type": "markdown",
   "id": "ab426ac6",
   "metadata": {},
   "source": [
    "# DyNamic dictionary"
   ]
  },
  {
   "cell_type": "code",
   "execution_count": 30,
   "id": "ffe363e1",
   "metadata": {},
   "outputs": [
    {
     "name": "stdout",
     "output_type": "stream",
     "text": [
      "{'a': [1]}\n",
      "{'a': [1], 'b': [2]}\n",
      "{'a': [1, 3], 'b': [2], 'c': [4]}\n"
     ]
    }
   ],
   "source": [
    "# Initialize an empty dictionary\n",
    "D = {} \n",
    "\n",
    "L = [['a', 1], ['b', 2], ['a', 3], ['c', 4]]\n",
    "\n",
    "# Loop to add key-value pair\n",
    "# to dictionary\n",
    "for i in range(len(L)):\n",
    "    # If the key is already \n",
    "    # present in dictionary\n",
    "    # then append the value \n",
    "    # to the list of values\n",
    "    if L[i][0] in D:\n",
    "        D[L[i][0]].append(L[i][1])\n",
    "\n",
    "    # If the key is not present\n",
    "    # in the dictionary then add\n",
    "    # the key-value pair\n",
    "    else:\n",
    "        D[L[i][0]]= []\n",
    "        D[L[i][0]].append(L[i][1])\n",
    "\n",
    "        print(D)\n"
   ]
  },
  {
   "cell_type": "code",
   "execution_count": 34,
   "id": "53a91ccb",
   "metadata": {},
   "outputs": [
    {
     "data": {
      "text/plain": [
       "3"
      ]
     },
     "execution_count": 34,
     "metadata": {},
     "output_type": "execute_result"
    }
   ],
   "source": [
    "len(my_dict)"
   ]
  },
  {
   "cell_type": "markdown",
   "id": "ab30b712",
   "metadata": {},
   "source": [
    "# calculating len of nested dictionary"
   ]
  },
  {
   "cell_type": "code",
   "execution_count": 47,
   "id": "9fc41b0c",
   "metadata": {},
   "outputs": [],
   "source": [
    "# A nested dictionary\n",
    "dict2 ={\n",
    "'Name':'Steve',\n",
    "'Age':30,\n",
    "'Designation':'Programmer',\n",
    "'address':\n",
    "    {\n",
    "    'Street':'Brigade Road',\n",
    "    'City':'Bangalore',\n",
    "    'Country':'India'\n",
    "    }\n",
    "}"
   ]
  },
  {
   "cell_type": "code",
   "execution_count": 48,
   "id": "4190e436",
   "metadata": {},
   "outputs": [
    {
     "name": "stdout",
     "output_type": "stream",
     "text": [
      "The length of the nested dictionary is: 7\n"
     ]
    }
   ],
   "source": [
    "# total length = length of outer dict +\n",
    "# length of inner dict\n",
    "length = len(dict2)+len(dict2['address'])\n",
    "\n",
    "print(\"The length of the nested dictionary is:\", length)"
   ]
  },
  {
   "cell_type": "code",
   "execution_count": 49,
   "id": "9054d487",
   "metadata": {},
   "outputs": [],
   "source": [
    "# length of a nested dictionary using dictionary comprehension"
   ]
  },
  {
   "cell_type": "code",
   "execution_count": 50,
   "id": "d1d37731",
   "metadata": {},
   "outputs": [],
   "source": [
    "length = len({k: v for k, v in dict2.items()})"
   ]
  },
  {
   "cell_type": "code",
   "execution_count": 51,
   "id": "39d4129e",
   "metadata": {},
   "outputs": [
    {
     "data": {
      "text/plain": [
       "4"
      ]
     },
     "execution_count": 51,
     "metadata": {},
     "output_type": "execute_result"
    }
   ],
   "source": [
    "length"
   ]
  },
  {
   "cell_type": "code",
   "execution_count": 52,
   "id": "0f206e13",
   "metadata": {},
   "outputs": [
    {
     "data": {
      "text/plain": [
       "4"
      ]
     },
     "execution_count": 52,
     "metadata": {},
     "output_type": "execute_result"
    }
   ],
   "source": [
    "sum(1 for key in dict2)"
   ]
  },
  {
   "cell_type": "code",
   "execution_count": 53,
   "id": "ef34318d",
   "metadata": {},
   "outputs": [],
   "source": [
    "def count_nested_len(d):\n",
    "    length = len(d)\n",
    "    for key, value in d.items():\n",
    "        if isinstance(value, dict): #is instance is used for checking(5 , int)\n",
    "            length += count_nested_len(value)\n",
    "    return length"
   ]
  },
  {
   "cell_type": "code",
   "execution_count": 55,
   "id": "f2d414cd",
   "metadata": {},
   "outputs": [
    {
     "data": {
      "text/plain": [
       "7"
      ]
     },
     "execution_count": 55,
     "metadata": {},
     "output_type": "execute_result"
    }
   ],
   "source": [
    "count_nested_len(dict2)"
   ]
  },
  {
   "cell_type": "code",
   "execution_count": 56,
   "id": "48196bd5",
   "metadata": {},
   "outputs": [
    {
     "data": {
      "text/plain": [
       "<function isinstance(obj, class_or_tuple, /)>"
      ]
     },
     "execution_count": 56,
     "metadata": {},
     "output_type": "execute_result"
    }
   ],
   "source": [
    "isinstance"
   ]
  },
  {
   "cell_type": "code",
   "execution_count": 9,
   "id": "4e00405f",
   "metadata": {},
   "outputs": [
    {
     "data": {
      "text/plain": [
       "'########################################################################################################################'"
      ]
     },
     "execution_count": 9,
     "metadata": {},
     "output_type": "execute_result"
    }
   ],
   "source": [
    "'#' * 120"
   ]
  },
  {
   "cell_type": "markdown",
   "id": "3d4120c5",
   "metadata": {},
   "source": [
    "# sorting by keys"
   ]
  },
  {
   "cell_type": "code",
   "execution_count": 12,
   "id": "f0ee9636",
   "metadata": {},
   "outputs": [],
   "source": [
    "my_dict = {'ravi': 10, 'rajnish': 9,\n",
    "        'sanjeev': 15, 'yash': 2, 'suraj': 32}"
   ]
  },
  {
   "cell_type": "code",
   "execution_count": 21,
   "id": "7ac99ba9",
   "metadata": {},
   "outputs": [
    {
     "data": {
      "text/plain": [
       "{'rajnish': 9, 'ravi': 10, 'sanjeev': 15, 'suraj': 32, 'yash': 2}"
      ]
     },
     "execution_count": 21,
     "metadata": {},
     "output_type": "execute_result"
    }
   ],
   "source": [
    "{i:my_dict[i] for i in sorted(my_dict)}"
   ]
  },
  {
   "cell_type": "markdown",
   "id": "83aef2f9",
   "metadata": {},
   "source": [
    "# sorting by values"
   ]
  },
  {
   "cell_type": "code",
   "execution_count": 25,
   "id": "fb2e3fd2",
   "metadata": {},
   "outputs": [
    {
     "data": {
      "text/plain": [
       "{'yash': 2, 'rajnish': 9, 'ravi': 10, 'sanjeev': 15, 'suraj': 32}"
      ]
     },
     "execution_count": 25,
     "metadata": {},
     "output_type": "execute_result"
    }
   ],
   "source": [
    "{k:v for k, v in sorted(my_dict.items() , key = lambda item : item[1])}"
   ]
  },
  {
   "cell_type": "code",
   "execution_count": 27,
   "id": "e2620b2f",
   "metadata": {},
   "outputs": [
    {
     "data": {
      "text/plain": [
       "[('rajnish', 9), ('ravi', 10), ('sanjeev', 15), ('suraj', 32), ('yash', 2)]"
      ]
     },
     "execution_count": 27,
     "metadata": {},
     "output_type": "execute_result"
    }
   ],
   "source": [
    "sorted(my_dict.items())"
   ]
  },
  {
   "cell_type": "markdown",
   "id": "dc94805f",
   "metadata": {},
   "source": [
    "# sort by key and value"
   ]
  },
  {
   "cell_type": "code",
   "execution_count": 34,
   "id": "5b8ca66f",
   "metadata": {},
   "outputs": [
    {
     "data": {
      "text/plain": [
       "{'rajnish': 9, 'ravi': 10, 'sanjeev': 15, 'suraj': 32, 'yash': 2}"
      ]
     },
     "execution_count": 34,
     "metadata": {},
     "output_type": "execute_result"
    }
   ],
   "source": [
    "{k:v for k, v in sorted(my_dict.items() , key = lambda item : (item[0] , item[1]))}"
   ]
  },
  {
   "cell_type": "markdown",
   "id": "24bc198b",
   "metadata": {},
   "source": [
    "# Sort Dictionary key and values List"
   ]
  },
  {
   "cell_type": "code",
   "execution_count": 59,
   "id": "c512723e",
   "metadata": {},
   "outputs": [],
   "source": [
    "data = {\n",
    "    'banana': [3, 1, 2 , 9],\n",
    "    'apple': [4, 3, 1],\n",
    "    'pear': [1, 2],\n",
    "    'orange': [2]\n",
    "}"
   ]
  },
  {
   "cell_type": "code",
   "execution_count": 61,
   "id": "256dab57",
   "metadata": {},
   "outputs": [
    {
     "data": {
      "text/plain": [
       "{'orange': [2], 'pear': [1, 2], 'apple': [4, 3, 1], 'banana': [3, 1, 2, 9]}"
      ]
     },
     "execution_count": 61,
     "metadata": {},
     "output_type": "execute_result"
    }
   ],
   "source": [
    "{k:v for k , v in sorted(data.items() , key = lambda item : len(item[1]))}"
   ]
  },
  {
   "cell_type": "markdown",
   "id": "add9ef49",
   "metadata": {},
   "source": [
    "# Sort a Nested Dictionary by Value in Python"
   ]
  },
  {
   "cell_type": "code",
   "execution_count": 63,
   "id": "0fa5a9d3",
   "metadata": {},
   "outputs": [],
   "source": [
    "nested_dict = {'a': {'key': 3}, 'b': {'key': 1}, 'c': {'key': 2}}\n"
   ]
  },
  {
   "cell_type": "code",
   "execution_count": 64,
   "id": "a46fc306",
   "metadata": {},
   "outputs": [
    {
     "data": {
      "text/plain": [
       "{'b': {'key': 1}, 'c': {'key': 2}, 'a': {'key': 3}}"
      ]
     },
     "execution_count": 64,
     "metadata": {},
     "output_type": "execute_result"
    }
   ],
   "source": [
    "{k:v for k , v in sorted(nested_dict.items() , key = lambda item : item[1]['key'])}"
   ]
  },
  {
   "cell_type": "markdown",
   "id": "bc1a53af",
   "metadata": {},
   "source": [
    "# ensure that all the values are atleast K in dictionary"
   ]
  },
  {
   "cell_type": "code",
   "execution_count": 66,
   "id": "2bdaf11f",
   "metadata": {},
   "outputs": [],
   "source": [
    "test_dict = {'gfg' : 8, 'is' : 10, 'best' : 11}"
   ]
  },
  {
   "cell_type": "code",
   "execution_count": 67,
   "id": "b0eca5df",
   "metadata": {},
   "outputs": [],
   "source": [
    "k = 8"
   ]
  },
  {
   "cell_type": "code",
   "execution_count": 78,
   "id": "da63a5b2",
   "metadata": {},
   "outputs": [
    {
     "data": {
      "text/plain": [
       "True"
      ]
     },
     "execution_count": 78,
     "metadata": {},
     "output_type": "execute_result"
    }
   ],
   "source": [
    "all(i >= k for i in test_dict.values()) # generator expression , "
   ]
  },
  {
   "cell_type": "code",
   "execution_count": 79,
   "id": "0bbb613a",
   "metadata": {},
   "outputs": [],
   "source": [
    "## using filter to get values also|"
   ]
  },
  {
   "cell_type": "code",
   "execution_count": 82,
   "id": "9d52adc1",
   "metadata": {},
   "outputs": [
    {
     "data": {
      "text/plain": [
       "{'is': 10, 'best': 11}"
      ]
     },
     "execution_count": 82,
     "metadata": {},
     "output_type": "execute_result"
    }
   ],
   "source": [
    "dict(filter(lambda x : x[1] > k , test_dict.items()))"
   ]
  },
  {
   "cell_type": "markdown",
   "id": "a72fe758",
   "metadata": {},
   "source": [
    "# Handling missing keys in Python dictionaries"
   ]
  },
  {
   "cell_type": "code",
   "execution_count": 83,
   "id": "71a763e4",
   "metadata": {},
   "outputs": [],
   "source": [
    "country_code = {'India' : '0091',\n",
    "                'Australia' : '0025',\n",
    "                'Nepal' : '00977'}"
   ]
  },
  {
   "cell_type": "code",
   "execution_count": 87,
   "id": "5c899156",
   "metadata": {},
   "outputs": [
    {
     "data": {
      "text/plain": [
       "'Not_Found'"
      ]
     },
     "execution_count": 87,
     "metadata": {},
     "output_type": "execute_result"
    }
   ],
   "source": [
    "country_code.get('Indi' , 'Not_Found') # returns defualt value if key not found"
   ]
  },
  {
   "cell_type": "code",
   "execution_count": 88,
   "id": "5170a6d5",
   "metadata": {},
   "outputs": [
    {
     "data": {
      "text/plain": [
       "'Not Present'"
      ]
     },
     "execution_count": 88,
     "metadata": {},
     "output_type": "execute_result"
    }
   ],
   "source": [
    "country_code.setdefault('Japan', 'Not Present')  # setting a defaul value for a particular key"
   ]
  },
  {
   "cell_type": "code",
   "execution_count": 89,
   "id": "3adc5528",
   "metadata": {},
   "outputs": [],
   "source": [
    "## using if/else"
   ]
  },
  {
   "cell_type": "code",
   "execution_count": 90,
   "id": "ef3987e6",
   "metadata": {},
   "outputs": [
    {
     "name": "stdout",
     "output_type": "stream",
     "text": [
      "Key not found\n"
     ]
    }
   ],
   "source": [
    "if \"q\" in country_code:\n",
    "    print(country_code[\"d\"])\n",
    "else:\n",
    "    print(\"Key not found\")"
   ]
  },
  {
   "cell_type": "markdown",
   "id": "ce6c2c05",
   "metadata": {},
   "source": [
    "# Python dictionary with keys having multiple inputs"
   ]
  },
  {
   "cell_type": "code",
   "execution_count": 91,
   "id": "b6d24715",
   "metadata": {},
   "outputs": [],
   "source": [
    "a, b , c = 1,2,3"
   ]
  },
  {
   "cell_type": "code",
   "execution_count": 95,
   "id": "d96b0b56",
   "metadata": {},
   "outputs": [],
   "source": [
    "dicti = {}"
   ]
  },
  {
   "cell_type": "code",
   "execution_count": 96,
   "id": "b6cb477f",
   "metadata": {},
   "outputs": [],
   "source": [
    "dicti[a,b,c] = a+b+c;"
   ]
  },
  {
   "cell_type": "code",
   "execution_count": 97,
   "id": "554970ae",
   "metadata": {},
   "outputs": [
    {
     "data": {
      "text/plain": [
       "{(1, 2, 3): 6}"
      ]
     },
     "execution_count": 97,
     "metadata": {},
     "output_type": "execute_result"
    }
   ],
   "source": [
    "dicti"
   ]
  },
  {
   "cell_type": "code",
   "execution_count": 98,
   "id": "20959f9b",
   "metadata": {},
   "outputs": [],
   "source": [
    "places = {(\"19.07'53.2\", \"72.54'51.0\"):\"Mumbai\", \n",
    "          (\"28.33'34.1\", \"77.06'16.6\"):\"Delhi\"}"
   ]
  },
  {
   "cell_type": "code",
   "execution_count": 99,
   "id": "01a4c581",
   "metadata": {},
   "outputs": [
    {
     "name": "stdout",
     "output_type": "stream",
     "text": [
      "(\"19.07'53.2\", \"72.54'51.0\")\n",
      "(\"28.33'34.1\", \"77.06'16.6\")\n"
     ]
    }
   ],
   "source": [
    "for i in places:\n",
    "    print(i)"
   ]
  },
  {
   "cell_type": "markdown",
   "id": "a5d056c6",
   "metadata": {},
   "source": [
    "# sum of all values of a dictionary"
   ]
  },
  {
   "cell_type": "code",
   "execution_count": 102,
   "id": "6def1991",
   "metadata": {},
   "outputs": [],
   "source": [
    "nput=  {'a': 100, 'b':20 , 'c':300}"
   ]
  },
  {
   "cell_type": "code",
   "execution_count": 110,
   "id": "02847fe0",
   "metadata": {},
   "outputs": [
    {
     "data": {
      "text/plain": [
       "420"
      ]
     },
     "execution_count": 110,
     "metadata": {},
     "output_type": "execute_result"
    }
   ],
   "source": [
    "sum(nput.values())"
   ]
  },
  {
   "cell_type": "markdown",
   "id": "87d2e4bf",
   "metadata": {},
   "source": [
    "# Merging two dictionary"
   ]
  },
  {
   "cell_type": "code",
   "execution_count": 2,
   "id": "837efd77",
   "metadata": {},
   "outputs": [],
   "source": [
    "dict1 = {'a': 10, 'b': 8}            \n",
    "dict2 = {'d': 6, 'c': 4}"
   ]
  },
  {
   "cell_type": "code",
   "execution_count": 3,
   "id": "4701399c",
   "metadata": {},
   "outputs": [],
   "source": [
    "dict1.update(dict2)"
   ]
  },
  {
   "cell_type": "code",
   "execution_count": 4,
   "id": "11938028",
   "metadata": {},
   "outputs": [
    {
     "data": {
      "text/plain": [
       "{'a': 10, 'b': 8, 'd': 6, 'c': 4}"
      ]
     },
     "execution_count": 4,
     "metadata": {},
     "output_type": "execute_result"
    }
   ],
   "source": [
    "dict1"
   ]
  },
  {
   "cell_type": "code",
   "execution_count": 5,
   "id": "293d824d",
   "metadata": {},
   "outputs": [
    {
     "data": {
      "text/plain": [
       "{'a': 10, 'b': 8, 'd': 6, 'c': 4}"
      ]
     },
     "execution_count": 5,
     "metadata": {},
     "output_type": "execute_result"
    }
   ],
   "source": [
    "{**dict1 , **dict2} #2nd way"
   ]
  },
  {
   "cell_type": "code",
   "execution_count": 6,
   "id": "c2dde149",
   "metadata": {},
   "outputs": [
    {
     "data": {
      "text/plain": [
       "{'a': 10, 'b': 8, 'd': 6, 'c': 4}"
      ]
     },
     "execution_count": 6,
     "metadata": {},
     "output_type": "execute_result"
    }
   ],
   "source": [
    "dict1 | dict2 # union of two dict , works on python 3.9 andf above"
   ]
  },
  {
   "cell_type": "code",
   "execution_count": 7,
   "id": "a86a1f88",
   "metadata": {},
   "outputs": [],
   "source": [
    "# import sys (this is to check p[ython verion])\n",
    "# sys.version"
   ]
  },
  {
   "cell_type": "markdown",
   "id": "24be2edd",
   "metadata": {},
   "source": [
    "# Removing key from dctionary"
   ]
  },
  {
   "cell_type": "code",
   "execution_count": 8,
   "id": "7a693c84",
   "metadata": {},
   "outputs": [
    {
     "ename": "NameError",
     "evalue": "name 'test_dict' is not defined",
     "output_type": "error",
     "traceback": [
      "\u001b[1;31m---------------------------------------------------------------------------\u001b[0m",
      "\u001b[1;31mNameError\u001b[0m                                 Traceback (most recent call last)",
      "Cell \u001b[1;32mIn[8], line 1\u001b[0m\n\u001b[1;32m----> 1\u001b[0m a_dict \u001b[38;5;241m=\u001b[39m {key: test_dict[key] \u001b[38;5;28;01mfor\u001b[39;00m key \u001b[38;5;129;01min\u001b[39;00m test_dict \u001b[38;5;28;01mif\u001b[39;00m key \u001b[38;5;241m!=\u001b[39m \u001b[38;5;124m'\u001b[39m\u001b[38;5;124mMani\u001b[39m\u001b[38;5;124m'\u001b[39m}\n",
      "\u001b[1;31mNameError\u001b[0m: name 'test_dict' is not defined"
     ]
    }
   ],
   "source": [
    "a_dict = {key: test_dict[key] for key in test_dict if key != 'Mani'}\n"
   ]
  },
  {
   "cell_type": "markdown",
   "id": "0b9a9c9b",
   "metadata": {},
   "source": [
    "# Extract values of Particular Key in Nested Values"
   ]
  },
  {
   "cell_type": "code",
   "execution_count": 9,
   "id": "a1f017a1",
   "metadata": {},
   "outputs": [],
   "source": [
    "test_dict = {'Gfg' : {\"a\" : 7, \"b\" : 9, \"c\" : 12},\n",
    "             'is' : {\"a\" : 15, \"b\" : 19, \"c\" : 20}, \n",
    "             'best' :{\"a\" : 5, \"b\" : 10, \"c\" : 2}}"
   ]
  },
  {
   "cell_type": "code",
   "execution_count": 10,
   "id": "8001a11c",
   "metadata": {},
   "outputs": [],
   "source": [
    "to_find = 'c'"
   ]
  },
  {
   "cell_type": "code",
   "execution_count": 8,
   "id": "6f43f833",
   "metadata": {},
   "outputs": [],
   "source": [
    "temp = to_find"
   ]
  },
  {
   "cell_type": "code",
   "execution_count": 5,
   "id": "1262ae56",
   "metadata": {},
   "outputs": [
    {
     "data": {
      "text/plain": [
       "[12, 20, 2]"
      ]
     },
     "execution_count": 5,
     "metadata": {},
     "output_type": "execute_result"
    }
   ],
   "source": [
    "[v[to_find] for k ,v in test_dict.items() if to_find in v]"
   ]
  },
  {
   "cell_type": "code",
   "execution_count": 6,
   "id": "fec5b5f2",
   "metadata": {},
   "outputs": [
    {
     "data": {
      "text/plain": [
       "dict_items([('Gfg', {'a': 7, 'b': 9, 'c': 12}), ('is', {'a': 15, 'b': 19, 'c': 20}), ('best', {'a': 5, 'b': 10, 'c': 2})])"
      ]
     },
     "execution_count": 6,
     "metadata": {},
     "output_type": "execute_result"
    }
   ],
   "source": [
    "test_dict.items()"
   ]
  },
  {
   "cell_type": "code",
   "execution_count": 7,
   "id": "943e2268",
   "metadata": {},
   "outputs": [],
   "source": [
    "# 2nd way"
   ]
  },
  {
   "cell_type": "code",
   "execution_count": 9,
   "id": "354eee5b",
   "metadata": {},
   "outputs": [],
   "source": [
    "res = [sub[temp] for sub in test_dict.values() if temp in sub.keys()]"
   ]
  },
  {
   "cell_type": "code",
   "execution_count": 10,
   "id": "abc09781",
   "metadata": {},
   "outputs": [
    {
     "data": {
      "text/plain": [
       "[12, 20, 2]"
      ]
     },
     "execution_count": 10,
     "metadata": {},
     "output_type": "execute_result"
    }
   ],
   "source": [
    "res"
   ]
  },
  {
   "cell_type": "markdown",
   "id": "aee32689",
   "metadata": {},
   "source": [
    "# Convert Key-Value list Dictionary to List of Lists"
   ]
  },
  {
   "cell_type": "code",
   "execution_count": 33,
   "id": "33c3c8ee",
   "metadata": {},
   "outputs": [],
   "source": [
    "test_dict = {'gfg': [1, 3, 4], 'is': [7, 6], 'best': [4, 5]}"
   ]
  },
  {
   "cell_type": "code",
   "execution_count": 34,
   "id": "25176bd4",
   "metadata": {},
   "outputs": [],
   "source": [
    "#method1\n",
    "store= []\n",
    "\n",
    "for k,v in test_dict.items():\n",
    "#     res = [k , v]\n",
    "    store.append([k] + v)"
   ]
  },
  {
   "cell_type": "code",
   "execution_count": 39,
   "id": "aff17f60",
   "metadata": {},
   "outputs": [
    {
     "data": {
      "text/plain": [
       "[['gfg', 1, 3, 4], ['is', 7, 6], ['best', 4, 5]]"
      ]
     },
     "execution_count": 39,
     "metadata": {},
     "output_type": "execute_result"
    }
   ],
   "source": [
    "#method2\n",
    "[[key] + val for key, val in test_dict.items()]"
   ]
  },
  {
   "cell_type": "markdown",
   "id": "f9069de2",
   "metadata": {},
   "source": [
    "# Convert List to List of dictionaries"
   ]
  },
  {
   "cell_type": "code",
   "execution_count": 41,
   "id": "aca44ab1",
   "metadata": {},
   "outputs": [],
   "source": [
    "test_list = [\"Gfg\", 3, \"is\", 8, \"Best\", 10, \"for\", 18, \"Geeks\", 33]\n",
    "key_list = [\"name\", \"number\"]"
   ]
  },
  {
   "cell_type": "code",
   "execution_count": 51,
   "id": "c508d0e2",
   "metadata": {},
   "outputs": [],
   "source": [
    "n = len(test_list)"
   ]
  },
  {
   "cell_type": "code",
   "execution_count": 52,
   "id": "2a564c7e",
   "metadata": {},
   "outputs": [
    {
     "data": {
      "text/plain": [
       "[{'name': 'Gfg', 'number': 3},\n",
       " {'name': 'is', 'number': 8},\n",
       " {'name': 'Best', 'number': 10},\n",
       " {'name': 'for', 'number': 18},\n",
       " {'name': 'Geeks', 'number': 33}]"
      ]
     },
     "execution_count": 52,
     "metadata": {},
     "output_type": "execute_result"
    }
   ],
   "source": [
    "[{key_list[0] : test_list[idx] , key_list[1] : test_list[idx+1]} for idx in range(0,n,2)]"
   ]
  },
  {
   "cell_type": "code",
   "execution_count": 53,
   "id": "d241880b",
   "metadata": {},
   "outputs": [
    {
     "name": "stdout",
     "output_type": "stream",
     "text": [
      "0\n",
      "2\n",
      "4\n",
      "6\n",
      "8\n"
     ]
    }
   ],
   "source": [
    "for idx in range(0,n,2):\n",
    "    print(idx)"
   ]
  },
  {
   "cell_type": "markdown",
   "id": "b783b3c3",
   "metadata": {},
   "source": [
    "# Python – Convert Lists of List to Dictionary\n",
    "\n"
   ]
  },
  {
   "cell_type": "code",
   "execution_count": 56,
   "id": "2da52168",
   "metadata": {},
   "outputs": [],
   "source": [
    "test_list = [['a', 'b', 1, 2], ['c', 'd', 3, 4], ['e', 'f', 5, 6]]"
   ]
  },
  {
   "cell_type": "code",
   "execution_count": 82,
   "id": "cb0bad00",
   "metadata": {},
   "outputs": [
    {
     "name": "stdout",
     "output_type": "stream",
     "text": [
      "{('e', 'f'), (5, 6)}\n",
      "{('e', 'f'), (5, 6)}\n",
      "{('e', 'f'), (5, 6)}\n"
     ]
    }
   ],
   "source": [
    "test = {}\n",
    "\n",
    "for t in test_list:\n",
    "    key = t[:2]\n",
    "    val = t[-2:]\n",
    "    test[tuple(key)] = tuple(val)\n",
    "    print(rr)\n",
    "#     test.update(rr)"
   ]
  },
  {
   "cell_type": "code",
   "execution_count": 86,
   "id": "6b1dc9b3",
   "metadata": {},
   "outputs": [],
   "source": [
    "# using dict comprehension"
   ]
  },
  {
   "cell_type": "code",
   "execution_count": 85,
   "id": "81e1c81d",
   "metadata": {},
   "outputs": [
    {
     "data": {
      "text/plain": [
       "{('a', 'b'): (1, 2), ('c', 'd'): (3, 4), ('e', 'f'): (5, 6)}"
      ]
     },
     "execution_count": 85,
     "metadata": {},
     "output_type": "execute_result"
    }
   ],
   "source": [
    "{tuple(sub[:2]):tuple(sub[-2:]) for sub in test_list}"
   ]
  },
  {
   "cell_type": "code",
   "execution_count": 67,
   "id": "fceae8d5",
   "metadata": {},
   "outputs": [
    {
     "data": {
      "text/plain": [
       "['a', 'b']"
      ]
     },
     "execution_count": 67,
     "metadata": {},
     "output_type": "execute_result"
    }
   ],
   "source": [
    "key"
   ]
  },
  {
   "cell_type": "markdown",
   "id": "9f5bc5df",
   "metadata": {},
   "source": [
    "# Convert List of Dictionaries to List of Lists"
   ]
  },
  {
   "cell_type": "code",
   "execution_count": 87,
   "id": "b883da5f",
   "metadata": {},
   "outputs": [],
   "source": [
    "test_list = [{'Nikhil' : 17, 'Akash' : 18, 'Akshat' : 20},\n",
    "             {'Nikhil' : 21, 'Akash' : 30, 'Akshat' : 10},\n",
    "             {'Nikhil' : 31, 'Akash' : 12, 'Akshat' : 19}]"
   ]
  },
  {
   "cell_type": "code",
   "execution_count": 117,
   "id": "35c17d7f",
   "metadata": {},
   "outputs": [
    {
     "data": {
      "text/plain": [
       "[['Nikhil', 'Akash', 'Akshat'], [17, 18, 20], [21, 30, 10], [31, 12, 19]]"
      ]
     },
     "execution_count": 117,
     "metadata": {},
     "output_type": "execute_result"
    }
   ],
   "source": [
    "res = list(map(lambda x : list(x.values()), test_list))\n",
    "res.insert(0 , list(test_list[0].keys()))\n",
    "res"
   ]
  },
  {
   "cell_type": "code",
   "execution_count": 115,
   "id": "c2984def",
   "metadata": {},
   "outputs": [],
   "source": [
    "#using comprehension "
   ]
  },
  {
   "cell_type": "code",
   "execution_count": 114,
   "id": "49550c98",
   "metadata": {},
   "outputs": [
    {
     "data": {
      "text/plain": [
       "[['Nikhil', 'Akash', 'Akshat'], [[17, 18, 20], [21, 30, 10], [31, 12, 19]]]"
      ]
     },
     "execution_count": 114,
     "metadata": {},
     "output_type": "execute_result"
    }
   ],
   "source": [
    "[[n for n in test_list[0].keys()], [list(p.values()) for p in test_list]]"
   ]
  },
  {
   "cell_type": "markdown",
   "id": "b28b4cda",
   "metadata": {},
   "source": [
    "# Flatten the dictionary"
   ]
  },
  {
   "cell_type": "code",
   "execution_count": 119,
   "id": "92c8e391",
   "metadata": {},
   "outputs": [],
   "source": [
    "test_dict = {'month' : [1, 2, 3],\n",
    "             'name' : ['Jan', 'Feb', 'March']}"
   ]
  },
  {
   "cell_type": "code",
   "execution_count": 120,
   "id": "91655c9d",
   "metadata": {},
   "outputs": [
    {
     "data": {
      "text/plain": [
       "{1: 'Jan', 2: 'Feb', 3: 'March'}"
      ]
     },
     "execution_count": 120,
     "metadata": {},
     "output_type": "execute_result"
    }
   ],
   "source": [
    "dict(zip(test_dict['month'] , test_dict['name']))"
   ]
  },
  {
   "cell_type": "code",
   "execution_count": 125,
   "id": "19c93ee1",
   "metadata": {},
   "outputs": [],
   "source": [
    "#using dict compehension"
   ]
  },
  {
   "cell_type": "code",
   "execution_count": 124,
   "id": "d560fe0d",
   "metadata": {},
   "outputs": [
    {
     "data": {
      "text/plain": [
       "{1: 'Jan', 2: 'Feb', 3: 'March'}"
      ]
     },
     "execution_count": 124,
     "metadata": {},
     "output_type": "execute_result"
    }
   ],
   "source": [
    "{ test_dict['month'][i] : test_dict['name'][i]  for i in range(len(test_dict['month']))}"
   ]
  },
  {
   "cell_type": "markdown",
   "id": "14032541",
   "metadata": {},
   "source": [
    "# Convert a list of Tuples into Dictionary"
   ]
  },
  {
   "cell_type": "code",
   "execution_count": 126,
   "id": "9972d686",
   "metadata": {},
   "outputs": [],
   "source": [
    "main = [(\"akash\", 10), (\"gaurav\", 12), (\"anand\", 14), \n",
    "         (\"suraj\", 20), (\"akhil\", 25), (\"ashish\", 30)]"
   ]
  },
  {
   "cell_type": "code",
   "execution_count": 140,
   "id": "6f3509c0",
   "metadata": {},
   "outputs": [
    {
     "data": {
      "text/plain": [
       "{'akash': 10,\n",
       " 'gaurav': 12,\n",
       " 'anand': 14,\n",
       " 'suraj': 20,\n",
       " 'akhil': 25,\n",
       " 'ashish': 30}"
      ]
     },
     "execution_count": 140,
     "metadata": {},
     "output_type": "execute_result"
    }
   ],
   "source": [
    "{item[0] : item[1] for item in main} #using dict compre"
   ]
  },
  {
   "cell_type": "code",
   "execution_count": 141,
   "id": "2f0e0cd8",
   "metadata": {},
   "outputs": [
    {
     "data": {
      "text/plain": [
       "{'akash': 10,\n",
       " 'gaurav': 12,\n",
       " 'anand': 14,\n",
       " 'suraj': 20,\n",
       " 'akhil': 25,\n",
       " 'ashish': 30}"
      ]
     },
     "execution_count": 141,
     "metadata": {},
     "output_type": "execute_result"
    }
   ],
   "source": [
    "dict((k,v) for k, v in main)\n"
   ]
  },
  {
   "cell_type": "markdown",
   "id": "e75daf0c",
   "metadata": {},
   "source": [
    "# Python – Create Nested Dictionary using given List"
   ]
  },
  {
   "cell_type": "code",
   "execution_count": 66,
   "id": "eb87ccf4",
   "metadata": {},
   "outputs": [],
   "source": [
    "test_dict = {'Gfg' : 4, 'best' : 9}\n",
    "test_list = [8, 2] "
   ]
  },
  {
   "cell_type": "code",
   "execution_count": 67,
   "id": "91ea7c40",
   "metadata": {},
   "outputs": [],
   "source": [
    "#Output : {8: {'Gfg’: 4}, 2: {'best: 9}}"
   ]
  },
  {
   "cell_type": "code",
   "execution_count": null,
   "id": "adb82756",
   "metadata": {},
   "outputs": [],
   "source": []
  },
  {
   "cell_type": "code",
   "execution_count": 70,
   "id": "8ecd146d",
   "metadata": {},
   "outputs": [
    {
     "data": {
      "text/plain": [
       "{8: {'Gfg': 4}, 2: {'best': 9}}"
      ]
     },
     "execution_count": 70,
     "metadata": {},
     "output_type": "execute_result"
    }
   ],
   "source": [
    "{idx:{key: test_dict[key]} for idx , key in zip(test_list , test_dict)}"
   ]
  },
  {
   "cell_type": "markdown",
   "id": "70ef74e2",
   "metadata": {},
   "source": [
    "# Python – Swapping Hierarchy in Nested Dictionaries"
   ]
  },
  {
   "cell_type": "code",
   "execution_count": 146,
   "id": "cf22dbc9",
   "metadata": {},
   "outputs": [],
   "source": [
    "dd = {'Gfg': { 'a' : [1, 3, 7, 8], 'b': [4, 9], 'c': [0, 7]}} \n",
    "\n",
    "#output {‘c’: {‘Gfg’: [0, 7]}, ‘b’: {‘Gfg’: [4, 9]}, ‘a’: {‘Gfg’: [1, 3, 7, 8]}}"
   ]
  },
  {
   "cell_type": "code",
   "execution_count": 147,
   "id": "c0c2084a",
   "metadata": {},
   "outputs": [],
   "source": [
    "new= {}\n",
    "\n",
    "for key , value in dd.items():\n",
    "    for keyy , valuee in dd[key].items():\n",
    "        if keyy not in new:\n",
    "            new[keyy] = {}\n",
    "        new[keyy][key] = valuee\n"
   ]
  },
  {
   "cell_type": "markdown",
   "id": "6a77e190",
   "metadata": {},
   "source": [
    "# inversion"
   ]
  },
  {
   "cell_type": "code",
   "execution_count": null,
   "id": "52f4aade",
   "metadata": {},
   "outputs": [],
   "source": [
    "test_dict = {“a” : {“b” : {}}, “d” : {“e” : {}}, “f” : {“g” : {}} \n",
    "#Output : {‘b’: {‘a’: {}}, ‘e’: {‘d’: {}}, ‘g’: {‘f’: {}}"
   ]
  },
  {
   "cell_type": "code",
   "execution_count": null,
   "id": "b2bad7fa",
   "metadata": {},
   "outputs": [],
   "source": []
  },
  {
   "cell_type": "code",
   "execution_count": 50,
   "id": "944ab96b",
   "metadata": {},
   "outputs": [
    {
     "name": "stdout",
     "output_type": "stream",
     "text": [
      "Number: 1, Character: a\n",
      "Number: 2, Character: b\n",
      "Number: 3, Character: c\n",
      "Number: 4, Character: d\n"
     ]
    }
   ],
   "source": [
    "# # Define two sequences, using zip to traverse two seaquence at once\n",
    "sequence1 = [1, 2, 3, 4]\n",
    "sequence2 = ['a', 'b', 'c', 'd']\n",
    "\n",
    "# Use zip to combine the sequences\n",
    "for num, char in zip(sequence1, sequence2):\n",
    "    print(f\"Number: {num}, Character: {char}\")"
   ]
  },
  {
   "cell_type": "code",
   "execution_count": 1,
   "id": "07619c97",
   "metadata": {},
   "outputs": [],
   "source": [
    "# PRARAMBH"
   ]
  },
  {
   "cell_type": "code",
   "execution_count": 2,
   "id": "88d3fd63",
   "metadata": {},
   "outputs": [],
   "source": [
    "keys = ['Ten', 'Twenty', 'Thirty']\n",
    "values = [10, 20, 30]"
   ]
  },
  {
   "cell_type": "code",
   "execution_count": 3,
   "id": "59437d2e",
   "metadata": {},
   "outputs": [
    {
     "data": {
      "text/plain": [
       "{'Ten': 10, 'Twenty': 20, 'Thirty': 30}"
      ]
     },
     "execution_count": 3,
     "metadata": {},
     "output_type": "execute_result"
    }
   ],
   "source": [
    "{i:j for i,j in zip(keys , values)}"
   ]
  },
  {
   "cell_type": "code",
   "execution_count": 1,
   "id": "a0023a95",
   "metadata": {},
   "outputs": [],
   "source": [
    "# Inputs:\n",
    "sample_dict = {\n",
    "    \"name\": \"Kelly\",\n",
    "    \"age\": 25,\n",
    "    \"salary\": 8000,\n",
    "    \"city\": \"New york\"}\n",
    "\n",
    "# Keys to extract\n",
    "keys = [\"name\", \"salary\"]\n",
    "\n",
    "# Expected Output: {'name': 'Kelly', 'salary': 8000}\n"
   ]
  },
  {
   "cell_type": "code",
   "execution_count": 12,
   "id": "2c4ef8ea",
   "metadata": {},
   "outputs": [
    {
     "data": {
      "text/plain": [
       "{'name': 'Kelly', 'salary': 8000}"
      ]
     },
     "execution_count": 12,
     "metadata": {},
     "output_type": "execute_result"
    }
   ],
   "source": [
    "{ key : values for key , values in sample_dict.items() if key in keys }"
   ]
  },
  {
   "cell_type": "code",
   "execution_count": 13,
   "id": "841ad21b",
   "metadata": {},
   "outputs": [],
   "source": [
    "d = {}\n",
    "for i in keys:\n",
    "    d[i] = sample_dict[i]"
   ]
  },
  {
   "cell_type": "code",
   "execution_count": null,
   "id": "9390e80d",
   "metadata": {},
   "outputs": [],
   "source": [
    "{ key : values for key , values in sample_dict.items() if key in keys }"
   ]
  },
  {
   "cell_type": "code",
   "execution_count": 2,
   "id": "627f2c4c",
   "metadata": {},
   "outputs": [],
   "source": [
    "for i in keys:\n",
    "    sample_dict.pop(i)"
   ]
  },
  {
   "cell_type": "code",
   "execution_count": 3,
   "id": "3e156de3",
   "metadata": {},
   "outputs": [
    {
     "data": {
      "text/plain": [
       "{'age': 25, 'city': 'New york'}"
      ]
     },
     "execution_count": 3,
     "metadata": {},
     "output_type": "execute_result"
    }
   ],
   "source": [
    "sample_dict"
   ]
  },
  {
   "cell_type": "code",
   "execution_count": 17,
   "id": "f1e248b8",
   "metadata": {},
   "outputs": [],
   "source": [
    "sample_dict = {\n",
    "  'Physics': 82,\n",
    "  'Math': 65,\n",
    "  'History': 75\n",
    "}"
   ]
  },
  {
   "cell_type": "code",
   "execution_count": 20,
   "id": "01e482cd",
   "metadata": {},
   "outputs": [
    {
     "data": {
      "text/plain": [
       "'Math'"
      ]
     },
     "execution_count": 20,
     "metadata": {},
     "output_type": "execute_result"
    }
   ],
   "source": [
    "sorted(sample_dict.items() , key = lambda x : x[1])[0][0]"
   ]
  },
  {
   "cell_type": "code",
   "execution_count": 21,
   "id": "535666e4",
   "metadata": {},
   "outputs": [
    {
     "data": {
      "text/plain": [
       "['Physics', 'Math', 'History']"
      ]
     },
     "execution_count": 21,
     "metadata": {},
     "output_type": "execute_result"
    }
   ],
   "source": [
    "list(sample_dict)"
   ]
  },
  {
   "cell_type": "code",
   "execution_count": 22,
   "id": "6831422b",
   "metadata": {},
   "outputs": [],
   "source": [
    "# sort up , down"
   ]
  },
  {
   "cell_type": "code",
   "execution_count": 32,
   "id": "bd366422",
   "metadata": {},
   "outputs": [
    {
     "data": {
      "text/plain": [
       "{'Math': 65, 'Physics': 82, 'History': 75}"
      ]
     },
     "execution_count": 32,
     "metadata": {},
     "output_type": "execute_result"
    }
   ],
   "source": [
    "{k: sample_dict[k] for k in sorted(sample_dict , key = lambda x: x[1])} # sorted by keys"
   ]
  },
  {
   "cell_type": "code",
   "execution_count": 37,
   "id": "a5725421",
   "metadata": {},
   "outputs": [],
   "source": [
    "# handling missing key"
   ]
  },
  {
   "cell_type": "code",
   "execution_count": 47,
   "id": "788714bb",
   "metadata": {},
   "outputs": [],
   "source": [
    "sample_dict = {\n",
    "  'Physics': 82,\n",
    "  'Math': 65,\n",
    "  'History': 75\n",
    "}"
   ]
  },
  {
   "cell_type": "code",
   "execution_count": 34,
   "id": "ac94aa66",
   "metadata": {},
   "outputs": [
    {
     "name": "stdout",
     "output_type": "stream",
     "text": [
      "key not found\n"
     ]
    }
   ],
   "source": [
    "if 'arts' in sample_dict:\n",
    "    print(sample_dict['arts'])\n",
    "else:\n",
    "    print('key not found')"
   ]
  },
  {
   "cell_type": "code",
   "execution_count": 35,
   "id": "7a781525",
   "metadata": {},
   "outputs": [
    {
     "data": {
      "text/plain": [
       "'nOT FOUND'"
      ]
     },
     "execution_count": 35,
     "metadata": {},
     "output_type": "execute_result"
    }
   ],
   "source": [
    "sample_dict.get('ARTS' , 'nOT FOUND')"
   ]
  },
  {
   "cell_type": "code",
   "execution_count": 36,
   "id": "2bfa715f",
   "metadata": {},
   "outputs": [
    {
     "data": {
      "text/plain": [
       "65"
      ]
     },
     "execution_count": 36,
     "metadata": {},
     "output_type": "execute_result"
    }
   ],
   "source": [
    "sample_dict.get('Math' , 'nOT FOUND')"
   ]
  },
  {
   "cell_type": "code",
   "execution_count": 38,
   "id": "f4581eb2",
   "metadata": {},
   "outputs": [
    {
     "data": {
      "text/plain": [
       "'not found'"
      ]
     },
     "execution_count": 38,
     "metadata": {},
     "output_type": "execute_result"
    }
   ],
   "source": [
    "sample_dict.setdefault('Ats' , 'not found')"
   ]
  },
  {
   "cell_type": "code",
   "execution_count": 39,
   "id": "f7a667c7",
   "metadata": {},
   "outputs": [
    {
     "data": {
      "text/plain": [
       "'not found'"
      ]
     },
     "execution_count": 39,
     "metadata": {},
     "output_type": "execute_result"
    }
   ],
   "source": [
    "sample_dict['Ats']"
   ]
  },
  {
   "cell_type": "code",
   "execution_count": 44,
   "id": "a95cbdb3",
   "metadata": {},
   "outputs": [
    {
     "data": {
      "text/plain": [
       "dict_values([82, 65, 75, 'not found'])"
      ]
     },
     "execution_count": 44,
     "metadata": {},
     "output_type": "execute_result"
    }
   ],
   "source": [
    "sample_dict.values()"
   ]
  },
  {
   "cell_type": "code",
   "execution_count": 48,
   "id": "b53ee8ab",
   "metadata": {},
   "outputs": [
    {
     "data": {
      "text/plain": [
       "{'Physics': 82, 'Math': 65, 'History': 75}"
      ]
     },
     "execution_count": 48,
     "metadata": {},
     "output_type": "execute_result"
    }
   ],
   "source": [
    "sample_dict"
   ]
  },
  {
   "cell_type": "code",
   "execution_count": 51,
   "id": "d8d59a52",
   "metadata": {},
   "outputs": [
    {
     "data": {
      "text/plain": [
       "222"
      ]
     },
     "execution_count": 51,
     "metadata": {},
     "output_type": "execute_result"
    }
   ],
   "source": [
    "sum(sample_dict.values())"
   ]
  },
  {
   "cell_type": "code",
   "execution_count": 53,
   "id": "77e8db65",
   "metadata": {},
   "outputs": [],
   "source": [
    "d=  {\"Geek1\": \"Raju\", \"Geek2\": \"Nikhil\", \"Geek3\": \"Deepanshu\"}"
   ]
  },
  {
   "cell_type": "code",
   "execution_count": 55,
   "id": "bfab3b85",
   "metadata": {},
   "outputs": [
    {
     "data": {
      "text/plain": [
       "3"
      ]
     },
     "execution_count": 55,
     "metadata": {},
     "output_type": "execute_result"
    }
   ],
   "source": [
    "sum(1 for i in d.keys())"
   ]
  },
  {
   "cell_type": "code",
   "execution_count": 56,
   "id": "41e68e1a",
   "metadata": {},
   "outputs": [],
   "source": [
    "# merge_dict"
   ]
  },
  {
   "cell_type": "code",
   "execution_count": 61,
   "id": "1dfc0c82",
   "metadata": {},
   "outputs": [],
   "source": [
    "dict1 = {'a': 10, 'b': 8}\n",
    "dict2 = {'d': 6, 'c': 4}"
   ]
  },
  {
   "cell_type": "code",
   "execution_count": null,
   "id": "1132a987",
   "metadata": {},
   "outputs": [],
   "source": [
    "dict1.update(dict2)\n",
    "dict1 | dict2\n",
    "{**dict1 , **dict2}\n",
    "for i in dict2.keys():\n",
    "    dict1[i] = dict2[i]"
   ]
  },
  {
   "cell_type": "code",
   "execution_count": 65,
   "id": "c4ea6371",
   "metadata": {},
   "outputs": [],
   "source": [
    "original_dict = {'a':1, 'b':2}\n",
    "#item to be inserted \n",
    "m = ('c', 3)"
   ]
  },
  {
   "cell_type": "code",
   "execution_count": 77,
   "id": "e9ec13ba",
   "metadata": {},
   "outputs": [],
   "source": [
    "votes= {\"john\", \"johnny\", \"jackie\", \n",
    "                    \"johnny\", \"john\", \"jackie\", \n",
    "                    \"jamie\", \"jamie\", \"john\",\n",
    "                    \"johnny\", \"jamie\", \"johnny\", \n",
    "                    \"john\"}\n",
    "#Output : John"
   ]
  },
  {
   "cell_type": "code",
   "execution_count": 83,
   "id": "60443e77",
   "metadata": {},
   "outputs": [],
   "source": [
    "d = {}"
   ]
  },
  {
   "cell_type": "code",
   "execution_count": 85,
   "id": "128cde1f",
   "metadata": {},
   "outputs": [
    {
     "data": {
      "text/plain": [
       "{'jackie': 1, 'john': 1, 'johnny': 1, 'jamie': 1}"
      ]
     },
     "execution_count": 85,
     "metadata": {},
     "output_type": "execute_result"
    }
   ],
   "source": [
    "d"
   ]
  },
  {
   "cell_type": "code",
   "execution_count": 97,
   "id": "12c3c53b",
   "metadata": {},
   "outputs": [],
   "source": [
    "test_dict = {\"Gfg\": [5, 7, 5, 4, 5],\n",
    "             \"is\": [6, 7, 4, 3, 3],\n",
    "             \"Best\": [9, 9, 6, 5, 5]}"
   ]
  },
  {
   "cell_type": "code",
   "execution_count": 94,
   "id": "ffbe5b85",
   "metadata": {},
   "outputs": [],
   "source": [
    "max_val = 0\n",
    "max_key = None\n",
    "\n",
    "for k , v in test_dict.items():\n",
    "\n",
    "    my_val = len(set(v))\n",
    "    if my_val > max_val:\n",
    "        max_val = my_val\n",
    "        max_key = k\n"
   ]
  },
  {
   "cell_type": "code",
   "execution_count": 103,
   "id": "5cbdc405",
   "metadata": {},
   "outputs": [
    {
     "data": {
      "text/plain": [
       "'is'"
      ]
     },
     "execution_count": 103,
     "metadata": {},
     "output_type": "execute_result"
    }
   ],
   "source": [
    "sorted(test_dict.items() , key = lambda x : len(set(x[1])), reverse = True )[0][0]"
   ]
  },
  {
   "cell_type": "code",
   "execution_count": 104,
   "id": "5ed508b3",
   "metadata": {},
   "outputs": [],
   "source": [
    "ip ='hello'"
   ]
  },
  {
   "cell_type": "code",
   "execution_count": 124,
   "id": "51ede77b",
   "metadata": {},
   "outputs": [],
   "source": [
    "l = []\n",
    "for i in ip:\n",
    "    if i not in l and ip.count(i) > 1:\n",
    "        l.append(i)"
   ]
  },
  {
   "cell_type": "code",
   "execution_count": 125,
   "id": "3dab376f",
   "metadata": {},
   "outputs": [
    {
     "data": {
      "text/plain": [
       "['l']"
      ]
     },
     "execution_count": 125,
     "metadata": {},
     "output_type": "execute_result"
    }
   ],
   "source": [
    "l"
   ]
  },
  {
   "cell_type": "code",
   "execution_count": 127,
   "id": "058b2441",
   "metadata": {},
   "outputs": [
    {
     "data": {
      "text/plain": [
       "['l', 'l']"
      ]
     },
     "execution_count": 127,
     "metadata": {},
     "output_type": "execute_result"
    }
   ],
   "source": [
    "list(filter(lambda x: ip.count(x) > 1 , ip))"
   ]
  },
  {
   "cell_type": "code",
   "execution_count": 128,
   "id": "bf44f2f8",
   "metadata": {},
   "outputs": [],
   "source": [
    "test_list = [4, 6, 6, 4, 2, 2, 4, 4, 8, 5, 8]"
   ]
  },
  {
   "cell_type": "code",
   "execution_count": 133,
   "id": "f1e6d68e",
   "metadata": {},
   "outputs": [],
   "source": [
    "dict = {}\n",
    "for item in test_list:\n",
    "    if item in dict:\n",
    "        dict[item].append(item)\n",
    "    else:\n",
    "        dict[item] = [item]"
   ]
  },
  {
   "cell_type": "code",
   "execution_count": 136,
   "id": "5279f328",
   "metadata": {},
   "outputs": [
    {
     "data": {
      "text/plain": [
       "{2: [2, 2], 4: [4, 4, 4, 4], 5: [5], 6: [6, 6], 8: [8, 8]}"
      ]
     },
     "execution_count": 136,
     "metadata": {},
     "output_type": "execute_result"
    }
   ],
   "source": [
    "{item : [i for i in test_list if i ==item] for item in set(test_list)}"
   ]
  },
  {
   "cell_type": "code",
   "execution_count": 137,
   "id": "496d4d5b",
   "metadata": {},
   "outputs": [],
   "source": [
    "# "
   ]
  },
  {
   "cell_type": "code",
   "execution_count": 144,
   "id": "57245998",
   "metadata": {},
   "outputs": [],
   "source": [
    "test_dict = {'Gfg' : 4, 'is' : 5, 'best' : 9} \n",
    "test_list = [8, 3, 2]"
   ]
  },
  {
   "cell_type": "code",
   "execution_count": 145,
   "id": "75e108e2",
   "metadata": {},
   "outputs": [
    {
     "data": {
      "text/plain": [
       "{8: {'Gfg': 4, 'is': 5, 'best': 9},\n",
       " 3: {'Gfg': 4, 'is': 5, 'best': 9},\n",
       " 2: {'Gfg': 4, 'is': 5, 'best': 9}}"
      ]
     },
     "execution_count": 145,
     "metadata": {},
     "output_type": "execute_result"
    }
   ],
   "source": [
    "{item : {k:v for k,v in test_dict.items() } for item in test_list}"
   ]
  },
  {
   "cell_type": "code",
   "execution_count": 142,
   "id": "dd03edb8",
   "metadata": {},
   "outputs": [
    {
     "data": {
      "text/plain": [
       "[(8, 'Gfg'), (3, 'is'), (2, 'best')]"
      ]
     },
     "execution_count": 142,
     "metadata": {},
     "output_type": "execute_result"
    }
   ],
   "source": [
    "list(zip(test_list, test_dict))"
   ]
  },
  {
   "cell_type": "code",
   "execution_count": 143,
   "id": "1338a266",
   "metadata": {},
   "outputs": [
    {
     "name": "stdout",
     "output_type": "stream",
     "text": [
      "8 Gfg\n",
      "3 is\n",
      "2 best\n"
     ]
    }
   ],
   "source": [
    "for idx, key in zip(test_list, test_dict):\n",
    "    print(idx , key)"
   ]
  },
  {
   "cell_type": "code",
   "execution_count": 152,
   "id": "7486e16a",
   "metadata": {},
   "outputs": [
    {
     "name": "stdout",
     "output_type": "stream",
     "text": [
      "{8: {'Gfg': 4}, 2: {'best': 9}}\n"
     ]
    }
   ],
   "source": [
    "test_dict = {'Gfg': 4, 'best': 9}\n",
    "test_list = [8, 2]\n",
    "\n",
    "output_dict = {key: {list(test_dict.keys())[i] : list(test_dict.values())[i]} for i ,  key in enumerate(test_list)}\n",
    "\n",
    "print(output_dict)"
   ]
  },
  {
   "cell_type": "code",
   "execution_count": 151,
   "id": "7ee0c67c",
   "metadata": {},
   "outputs": [
    {
     "ename": "TypeError",
     "evalue": "'dict_keys' object is not subscriptable",
     "output_type": "error",
     "traceback": [
      "\u001b[1;31m---------------------------------------------------------------------------\u001b[0m",
      "\u001b[1;31mTypeError\u001b[0m                                 Traceback (most recent call last)",
      "Cell \u001b[1;32mIn[151], line 1\u001b[0m\n\u001b[1;32m----> 1\u001b[0m \u001b[43mtest_dict\u001b[49m\u001b[38;5;241;43m.\u001b[39;49m\u001b[43mkeys\u001b[49m\u001b[43m(\u001b[49m\u001b[43m)\u001b[49m\u001b[43m[\u001b[49m\u001b[38;5;241;43m0\u001b[39;49m\u001b[43m]\u001b[49m\n",
      "\u001b[1;31mTypeError\u001b[0m: 'dict_keys' object is not subscriptable"
     ]
    }
   ],
   "source": [
    "test_dict.keys()[0]"
   ]
  },
  {
   "cell_type": "code",
   "execution_count": null,
   "id": "996f286e",
   "metadata": {},
   "outputs": [],
   "source": []
  }
 ],
 "metadata": {
  "kernelspec": {
   "display_name": "Python 3 (ipykernel)",
   "language": "python",
   "name": "python3"
  },
  "language_info": {
   "codemirror_mode": {
    "name": "ipython",
    "version": 3
   },
   "file_extension": ".py",
   "mimetype": "text/x-python",
   "name": "python",
   "nbconvert_exporter": "python",
   "pygments_lexer": "ipython3",
   "version": "3.10.5"
  }
 },
 "nbformat": 4,
 "nbformat_minor": 5
}
