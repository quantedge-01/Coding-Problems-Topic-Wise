{
 "cells": [
  {
   "cell_type": "code",
   "execution_count": 1,
   "metadata": {},
   "outputs": [],
   "source": [
    "class Stack:\n",
    "    '''here end is the top,and starting is base list[0]'''\n",
    "    def __init__(self):\n",
    "        self.items = []\n",
    "\n",
    "    def is_empty(self):\n",
    "        return self.items == []\n",
    "    \n",
    "    def push(self , item):\n",
    "        self.items.append(item)\n",
    "\n",
    "    def pop(self):\n",
    "        return self.items.pop()\n",
    "\n",
    "    def peek(self):\n",
    "        return self.items[len(self.items) - 1]\n",
    "    \n",
    "    def size(self):\n",
    "        return len(self.items)\n",
    "    \n",
    "    def info(self): # for visualization only\\\n",
    "        print(self.items)"
   ]
  },
  {
   "cell_type": "code",
   "execution_count": 2,
   "metadata": {},
   "outputs": [],
   "source": [
    "my_stack = Stack()"
   ]
  },
  {
   "cell_type": "code",
   "execution_count": 3,
   "metadata": {},
   "outputs": [
    {
     "name": "stdout",
     "output_type": "stream",
     "text": [
      "['a', 'b', 'c', 'd', 'e']\n"
     ]
    }
   ],
   "source": [
    "my_stack.push('a')\n",
    "my_stack.push('b')\n",
    "my_stack.push('c')\n",
    "my_stack.push('d')\n",
    "my_stack.push('e')\n",
    "my_stack.size()\n",
    "my_stack.info()"
   ]
  },
  {
   "cell_type": "code",
   "execution_count": null,
   "metadata": {},
   "outputs": [],
   "source": [
    "# Write a function rev_string(my_str) that uses a stack to reverse the characters in a string."
   ]
  },
  {
   "cell_type": "code",
   "execution_count": null,
   "metadata": {},
   "outputs": [],
   "source": [
    "name = 'karan'\n",
    "for i in name:\n",
    "    my_stack.push(i)\n",
    "    \n",
    "rev = ''\n",
    "while not my_stack.is_empty():\n",
    "    a = my_stack.pop()\n",
    "    rev += a"
   ]
  },
  {
   "cell_type": "code",
   "execution_count": null,
   "metadata": {},
   "outputs": [],
   "source": [
    "# implementation of stack using only list"
   ]
  },
  {
   "cell_type": "code",
   "execution_count": null,
   "metadata": {},
   "outputs": [],
   "source": [
    "st = []\n",
    "new = ''\n",
    "for i in name:\n",
    "    st.append(i)\n",
    "while st != []:\n",
    "    new = new + st.pop()"
   ]
  },
  {
   "cell_type": "code",
   "execution_count": 4,
   "metadata": {},
   "outputs": [],
   "source": [
    "# Implementation of Min Stack"
   ]
  },
  {
   "cell_type": "code",
   "execution_count": null,
   "metadata": {},
   "outputs": [],
   "source": [
    "class MinimmumStack:\n",
    "    \n",
    "    def __init__(self):\n",
    "        self.main_stack = []\n",
    "        self.min_stack = []\n",
    "\n",
    "    def push(self , n):\n",
    "        if len(self.main_stack) == 0:\n",
    "            self.min_stack.append(n)\n",
    "\n",
    "        elif n <= self.min_stack[-1]:\n",
    "            self.min_stack.append(n)\n",
    "\n",
    "        else:\n",
    "            self.min_stack.append(self.min_stack[-1])\n",
    "\n",
    "        self.main_stack.append(n)\n",
    "\n",
    "    def pop(self):\n",
    "        self.min_stack.pop()\n",
    "        return self.main_stack.pop()\n",
    "    \n",
    "    def get_min(self):\n",
    "        return self.min_stack[-1]\n"
   ]
  },
  {
   "cell_type": "code",
   "execution_count": null,
   "metadata": {},
   "outputs": [],
   "source": [
    "min_stack = MinimmumStack()\n",
    "min_stack.push(10)\n",
    "print(min_stack.main_stack)\n",
    "print(min_stack.min_stack)\n",
    "min_stack.push(15)\n",
    "print(min_stack.main_stack)\n",
    "print(min_stack.min_stack)\n",
    "min_stack.push(1)\n",
    "print(min_stack.main_stack)\n",
    "print(min_stack.min_stack)\n",
    "min_stack.pop()\n",
    "print(min_stack.main_stack)\n",
    "print(min_stack.min_stack)"
   ]
  },
  {
   "cell_type": "code",
   "execution_count": null,
   "metadata": {},
   "outputs": [],
   "source": [
    "check = \"(())()(\"\n",
    "def check_parentheses(check):\n",
    "    st = []\n",
    "    for c in check:\n",
    "        print(st)\n",
    "        if c == '(':\n",
    "            st.append(c)\n",
    "        if c == ')':\n",
    "            if len(st) == 0:\n",
    "                return False\n",
    "            else:\n",
    "                st.pop()\n",
    "\n",
    "    return len(st) == 0\n",
    "\n",
    "check_parentheses(check)"
   ]
  }
 ],
 "metadata": {
  "kernelspec": {
   "display_name": "Python 3",
   "language": "python",
   "name": "python3"
  },
  "language_info": {
   "codemirror_mode": {
    "name": "ipython",
    "version": 3
   },
   "file_extension": ".py",
   "mimetype": "text/x-python",
   "name": "python",
   "nbconvert_exporter": "python",
   "pygments_lexer": "ipython3",
   "version": "3.10.5"
  }
 },
 "nbformat": 4,
 "nbformat_minor": 2
}
