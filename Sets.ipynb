{
 "cells": [
  {
   "cell_type": "markdown",
   "id": "8588647d",
   "metadata": {},
   "source": [
    "# Set is unordered, mutable , no duplicates , cant contain mutable dtype"
   ]
  },
  {
   "cell_type": "code",
   "execution_count": 52,
   "id": "2a6aaac3",
   "metadata": {},
   "outputs": [],
   "source": [
    "a = set() # initialization"
   ]
  },
  {
   "cell_type": "markdown",
   "id": "03835614",
   "metadata": {},
   "source": [
    "# It has no index , so slicing, indexing doesnt work"
   ]
  },
  {
   "cell_type": "code",
   "execution_count": 53,
   "id": "a06b6abb",
   "metadata": {},
   "outputs": [],
   "source": [
    "# set.add(value) , add is for single value only"
   ]
  },
  {
   "cell_type": "code",
   "execution_count": 54,
   "id": "19d1e910",
   "metadata": {},
   "outputs": [],
   "source": [
    "a.add(2)\n",
    "\n",
    "a.add(3)\n",
    "\n",
    "a.add(True)\n",
    "\n",
    "a.add(1)\n"
   ]
  },
  {
   "cell_type": "code",
   "execution_count": 55,
   "id": "7162f971",
   "metadata": {},
   "outputs": [
    {
     "data": {
      "text/plain": [
       "{True, 2, 3}"
      ]
     },
     "execution_count": 55,
     "metadata": {},
     "output_type": "execute_result"
    }
   ],
   "source": [
    "a"
   ]
  },
  {
   "cell_type": "code",
   "execution_count": 56,
   "id": "eca33f43",
   "metadata": {},
   "outputs": [],
   "source": [
    "b = {3 , 2 , True}"
   ]
  },
  {
   "cell_type": "code",
   "execution_count": 57,
   "id": "bf04c341",
   "metadata": {},
   "outputs": [
    {
     "data": {
      "text/plain": [
       "True"
      ]
     },
     "execution_count": 57,
     "metadata": {},
     "output_type": "execute_result"
    }
   ],
   "source": [
    "a==b# hence proved "
   ]
  },
  {
   "cell_type": "markdown",
   "id": "3f3bbce2",
   "metadata": {},
   "source": [
    "# Using update can enter multiple values in a set"
   ]
  },
  {
   "cell_type": "code",
   "execution_count": null,
   "id": "7e33ef77",
   "metadata": {},
   "outputs": [],
   "source": [
    "b.update([1,2,3,4])"
   ]
  },
  {
   "cell_type": "markdown",
   "id": "d9ff4382",
   "metadata": {},
   "source": [
    "# Deletion"
   ]
  },
  {
   "cell_type": "code",
   "execution_count": 21,
   "id": "d26fd616",
   "metadata": {},
   "outputs": [],
   "source": [
    "#1 using del , can only delete whole set not part"
   ]
  },
  {
   "cell_type": "code",
   "execution_count": 22,
   "id": "bd9fad76",
   "metadata": {},
   "outputs": [],
   "source": [
    "del a"
   ]
  },
  {
   "cell_type": "markdown",
   "id": "3f883826",
   "metadata": {},
   "source": [
    "# discard/remove both same , remove throws an error if item not found , extra e 'error'"
   ]
  },
  {
   "cell_type": "code",
   "execution_count": 24,
   "id": "0cd084bd",
   "metadata": {},
   "outputs": [],
   "source": [
    "b.discard(1)"
   ]
  },
  {
   "cell_type": "code",
   "execution_count": 27,
   "id": "0d2c9898",
   "metadata": {},
   "outputs": [],
   "source": [
    "b.remove(2)"
   ]
  },
  {
   "cell_type": "code",
   "execution_count": 28,
   "id": "faaedb8b",
   "metadata": {},
   "outputs": [
    {
     "data": {
      "text/plain": [
       "{3, 4}"
      ]
     },
     "execution_count": 28,
     "metadata": {},
     "output_type": "execute_result"
    }
   ],
   "source": [
    "b"
   ]
  },
  {
   "cell_type": "code",
   "execution_count": 30,
   "id": "c32f3137",
   "metadata": {},
   "outputs": [
    {
     "data": {
      "text/plain": [
       "4"
      ]
     },
     "execution_count": 30,
     "metadata": {},
     "output_type": "execute_result"
    }
   ],
   "source": [
    "b.pop() # deletes item randomly"
   ]
  },
  {
   "cell_type": "code",
   "execution_count": 31,
   "id": "f7f6a888",
   "metadata": {},
   "outputs": [
    {
     "data": {
      "text/plain": [
       "set()"
      ]
     },
     "execution_count": 31,
     "metadata": {},
     "output_type": "execute_result"
    }
   ],
   "source": [
    "b"
   ]
  },
  {
   "cell_type": "markdown",
   "id": "25f14720",
   "metadata": {},
   "source": [
    "# Set Opertions"
   ]
  },
  {
   "cell_type": "code",
   "execution_count": 33,
   "id": "62cdd405",
   "metadata": {},
   "outputs": [],
   "source": [
    "a = {1,2,3,4,5,6}\n",
    "b = {4,4,5,6,7}"
   ]
  },
  {
   "cell_type": "code",
   "execution_count": 34,
   "id": "47c237f4",
   "metadata": {},
   "outputs": [
    {
     "data": {
      "text/plain": [
       "{4, 5, 6, 7}"
      ]
     },
     "execution_count": 34,
     "metadata": {},
     "output_type": "execute_result"
    }
   ],
   "source": [
    "# joiinig two sets , union"
   ]
  },
  {
   "cell_type": "code",
   "execution_count": 36,
   "id": "98ae0124",
   "metadata": {},
   "outputs": [
    {
     "data": {
      "text/plain": [
       "{1, 2, 3, 4, 5, 6, 7}"
      ]
     },
     "execution_count": 36,
     "metadata": {},
     "output_type": "execute_result"
    }
   ],
   "source": [
    "a | b # '|'  mesns union"
   ]
  },
  {
   "cell_type": "code",
   "execution_count": 37,
   "id": "f9a93122",
   "metadata": {},
   "outputs": [
    {
     "data": {
      "text/plain": [
       "{1, 2, 3}"
      ]
     },
     "execution_count": 37,
     "metadata": {},
     "output_type": "execute_result"
    }
   ],
   "source": [
    "a- b # difference ,  items of a that are not present in b"
   ]
  },
  {
   "cell_type": "code",
   "execution_count": 38,
   "id": "42b08916",
   "metadata": {},
   "outputs": [
    {
     "data": {
      "text/plain": [
       "{1, 2, 3, 7}"
      ]
     },
     "execution_count": 38,
     "metadata": {},
     "output_type": "execute_result"
    }
   ],
   "source": [
    "a ^ b # its called symmetric difference, isme common ko chhodh ke saare print"
   ]
  },
  {
   "cell_type": "code",
   "execution_count": 40,
   "id": "f3f87fbf",
   "metadata": {},
   "outputs": [
    {
     "data": {
      "text/plain": [
       "{4, 5, 6}"
      ]
     },
     "execution_count": 40,
     "metadata": {},
     "output_type": "execute_result"
    }
   ],
   "source": [
    "a & b # this is called intersection, common items"
   ]
  },
  {
   "cell_type": "markdown",
   "id": "b99c79a1",
   "metadata": {},
   "source": [
    "# membership operations on sets"
   ]
  },
  {
   "cell_type": "code",
   "execution_count": 42,
   "id": "d61f5094",
   "metadata": {},
   "outputs": [],
   "source": [
    "a = {1,2}"
   ]
  },
  {
   "cell_type": "code",
   "execution_count": 43,
   "id": "891b967d",
   "metadata": {},
   "outputs": [],
   "source": [
    "b = {1,2,3,4}"
   ]
  },
  {
   "cell_type": "code",
   "execution_count": 48,
   "id": "430dd3ce",
   "metadata": {},
   "outputs": [
    {
     "data": {
      "text/plain": [
       "False"
      ]
     },
     "execution_count": 48,
     "metadata": {},
     "output_type": "execute_result"
    }
   ],
   "source": [
    "a.isdisjoint(b) # means no item is common"
   ]
  },
  {
   "cell_type": "code",
   "execution_count": 46,
   "id": "38a74fc5",
   "metadata": {},
   "outputs": [
    {
     "data": {
      "text/plain": [
       "True"
      ]
     },
     "execution_count": 46,
     "metadata": {},
     "output_type": "execute_result"
    }
   ],
   "source": [
    "b.issuperset(a) # means b belongs to a"
   ]
  },
  {
   "cell_type": "code",
   "execution_count": 47,
   "id": "45ebcd78",
   "metadata": {},
   "outputs": [
    {
     "data": {
      "text/plain": [
       "True"
      ]
     },
     "execution_count": 47,
     "metadata": {},
     "output_type": "execute_result"
    }
   ],
   "source": [
    "a.issubset(b) # means a is small part of b"
   ]
  }
 ],
 "metadata": {
  "kernelspec": {
   "display_name": "Python 3",
   "language": "python",
   "name": "python3"
  },
  "language_info": {
   "codemirror_mode": {
    "name": "ipython",
    "version": 3
   },
   "file_extension": ".py",
   "mimetype": "text/x-python",
   "name": "python",
   "nbconvert_exporter": "python",
   "pygments_lexer": "ipython3",
   "version": "3.8.8"
  }
 },
 "nbformat": 4,
 "nbformat_minor": 5
}
